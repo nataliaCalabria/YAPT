{
 "cells": [
  {
   "cell_type": "markdown",
   "metadata": {},
   "source": [
    "# Python Installation"
   ]
  },
  {
   "cell_type": "markdown",
   "metadata": {},
   "source": [
    "## Contents\n",
    "1. [System-wide installation](#System).\n",
    "2. [Project-wide/user-wide installation (virtual environments)](#Virtual).\n",
    "3. [`pip`: intalling Python modules](#pip)."
   ]
  },
  {
   "cell_type": "markdown",
   "metadata": {},
   "source": [
    "<a id='System'></a>\n",
    "## 1. System-wide Python installation\n",
    "\n",
    "Python is usually installed in most modern OSs. However, if this is not true in your case, this section can help you."
   ]
  },
  {
   "cell_type": "markdown",
   "metadata": {},
   "source": [
    "### MS Windows"
   ]
  },
  {
   "cell_type": "markdown",
   "metadata": {},
   "source": [
    "Download Python from [https://www.python.org/downloads/](https://www.python.org/downloads/) ... and remember to select the option \"`Add Python to PATH`\"."
   ]
  },
  {
   "cell_type": "markdown",
   "metadata": {},
   "source": [
    "### Mac OS X"
   ]
  },
  {
   "cell_type": "markdown",
   "metadata": {},
   "source": [
    "Install [Homebrew](http://brew.sh/) and run\n",
    "```\n",
    "brew install python3\n",
    "```"
   ]
  },
  {
   "cell_type": "markdown",
   "metadata": {},
   "source": [
    "### GNU Debian"
   ]
  },
  {
   "cell_type": "markdown",
   "metadata": {},
   "source": [
    "Run\n",
    "```\n",
    "sudo apt-get update && sudo apt-get install python3\n",
    "```"
   ]
  },
  {
   "cell_type": "markdown",
   "metadata": {},
   "source": [
    "### Arch Linux"
   ]
  },
  {
   "cell_type": "markdown",
   "metadata": {},
   "source": [
    "Run\n",
    "```\n",
    "sudo pacman -Sy && sudo pacman -S python\n",
    "```"
   ]
  },
  {
   "cell_type": "markdown",
   "metadata": {},
   "source": [
    "<a id='Virtual'></a>\n",
    "## 2. Install Python in a virtual environment\n",
    "\n",
    "\n",
    "[Python virtual environments](https://docs.python.org/3/tutorial/venv.html) allow to have a set of different Python configurations in the same host. This can be useful When two or more Python projects, that run in the same host, requires different configurations of the used packages.\n",
    "\n",
    "2. If you don't have administrative privilegies to install packages.\n",
    "3. To keep organized the Python stuff in the file system.\n",
    "\n",
    "2. Using a different environment for each different Python's working context. In this case, we also will need [`virtualenvwrapper`](https://virtualenvwrapper.readthedocs.io/en/latest/).\n",
    "\n",
    "Both tools can be provided by [`pip`](https://pypi.python.org/pypi/pip), the recomended Python packages installer."
   ]
  },
  {
   "cell_type": "markdown",
   "metadata": {},
   "source": [
    "## 1. [`virtualenv`](https://pypi.python.org/pypi/virtualenv)\n",
    "\n",
    "Useful if we want to use a different environment for each [Python project](http://docs.python-guide.org/en/latest/writing/structure/)."
   ]
  },
  {
   "cell_type": "markdown",
   "metadata": {},
   "source": [
    "### 1.1 Installation of `virtualenv`\n",
    "\n",
    "```\n",
    "sudo pip install virtualenv\n",
    "```"
   ]
  },
  {
   "cell_type": "markdown",
   "metadata": {},
   "source": [
    "### 1.2 Use of `virtualenv`"
   ]
  },
  {
   "cell_type": "markdown",
   "metadata": {},
   "source": [
    "### 1.2.1 Creation of the environment\n",
    "\n",
    "```\n",
    "$ mkdir myproject\n",
    "$ cd myproject\n",
    "```"
   ]
  },
  {
   "cell_type": "markdown",
   "metadata": {},
   "source": [
    "If we want to use the default Python interpreter:\n",
    "\n",
    "```\n",
    "$ virtualenv env # \"env\" is the name of the directory containing the environment\n",
    "```"
   ]
  },
  {
   "cell_type": "markdown",
   "metadata": {},
   "source": [
    "If we want to use a specific Python interpreter:\n",
    "\n",
    "```\n",
    "$ virtualenv -p path/to/the/interpreter env\n",
    "```"
   ]
  },
  {
   "cell_type": "markdown",
   "metadata": {},
   "source": [
    "### 1.2.2 Activation of the environment\n",
    "\n",
    "```\n",
    "$ cd myproject\n",
    "$ . env/bin/activate\n",
    "```"
   ]
  },
  {
   "cell_type": "markdown",
   "metadata": {},
   "source": [
    "And your [prompt](http://www.webopedia.com/TERM/P/prompt.html) becomes (something similar to):\n",
    "\n",
    "```\n",
    "(env) $\n",
    "```"
   ]
  },
  {
   "cell_type": "markdown",
   "metadata": {},
   "source": [
    "### 1.2.3 Deactivation of the environment\n",
    "\n",
    "```\n",
    "deactivate\n",
    "```"
   ]
  },
  {
   "cell_type": "markdown",
   "metadata": {},
   "source": [
    "And your prompt becomes (something similar to):\n",
    "\n",
    "```\n",
    "$\n",
    "```"
   ]
  },
  {
   "cell_type": "markdown",
   "metadata": {},
   "source": [
    "### 1.2.4 Deletion of the environment\n",
    "\n",
    "```\n",
    "$ ls env/\n",
    "bin\t\t\tlib\n",
    "include\t\t\tpip-selfcheck.json\n",
    "$ rm -rf env\n",
    "```"
   ]
  },
  {
   "cell_type": "markdown",
   "metadata": {},
   "source": [
    "## 2. [`virtualenvwrapper`](https://virtualenvwrapper.readthedocs.io/en/latest/)\n",
    "\n",
    "When we prefer to use a different environment for each different Python's working-context."
   ]
  },
  {
   "cell_type": "markdown",
   "metadata": {},
   "source": [
    "### 2.1 Installation of `virtualenvwrapper`\n",
    "\n",
    "```\n",
    "sudo pip install virtualenvwrapper # requires \"virtualenv\"\n",
    "```"
   ]
  },
  {
   "cell_type": "markdown",
   "metadata": {},
   "source": [
    "### 2.2 Use of `virtualenvwrapper`"
   ]
  },
  {
   "cell_type": "markdown",
   "metadata": {},
   "source": [
    "### 2.2.1 Configuration of the environments directory\n",
    "\n",
    "```\n",
    "$ export VIRTUALENVWRAPPER_PYTHON=`which python3`\n",
    "$ export WORKON_HOME=$HOME/.python_environments\n",
    "$ source `which virtualenvwrapper.sh`\n",
    "```\n",
    "It's a good idea to store these commands in a file that is read by the shell when this is executed (in the case of Bash, `.bashrc` which is run by \"non-login shells\" or `.bash_profile` that is run by \"login shells\"). To use this right now, include that information in the corresponding file and \"source\" it. Example:\n",
    "```\n",
    "$ source ~/.bashrc\n",
    "```"
   ]
  },
  {
   "cell_type": "markdown",
   "metadata": {},
   "source": [
    "### 2.2.2 Creation of a environment\n",
    "\n",
    "```\n",
    "$ mkvirtualenv -p <interpreter> <name_of_the_environment>\n",
    "$ # Example: mkvirtualenv -p python3 YAPT\n",
    "```"
   ]
  },
  {
   "cell_type": "markdown",
   "metadata": {},
   "source": [
    "### 2.2.3 Determination of the virtual environment"
   ]
  },
  {
   "cell_type": "markdown",
   "metadata": {},
   "source": [
    "The Python environment must be activated before using it. After running `mkvirtualenv`, the environment should be active and this is reflected in the command line prompt. This can also checked by:\n",
    "\n",
    "```\n",
    "$ echo $VIRTUAL_ENV\n",
    "```"
   ]
  },
  {
   "cell_type": "markdown",
   "metadata": {},
   "source": [
    "### 2.2.4 Activation of a environment\n",
    "\n",
    "```\n",
    "$ workon <name_of_the_environment>\n",
    "$ # Example: workon yapt\n",
    "(yapt) $\n",
    "```"
   ]
  },
  {
   "cell_type": "markdown",
   "metadata": {},
   "source": [
    "### 2.2.5 Deactivation of a environment\n",
    "\n",
    "```\n",
    "(yapt) $ deactivate\n",
    "```"
   ]
  },
  {
   "cell_type": "markdown",
   "metadata": {},
   "source": [
    "### 2.2.6 Deletion of a environment\n",
    "\n",
    "```\n",
    "$ rmvirtualenv <name_of_the_environment>\n",
    "$ # Example: rmvirtualenv old-env\n",
    "```"
   ]
  },
  {
   "cell_type": "markdown",
   "metadata": {},
   "source": [
    "### 2.2.7 List the environments\n",
    "\n",
    "```\n",
    "$ lsvirtualenv\n",
    "```"
   ]
  },
  {
   "cell_type": "markdown",
   "metadata": {},
   "source": [
    "### 2.2.8 Navigate into the directory of the currently activated virtual environment\n",
    "\n",
    "```\n",
    "$ cdvirtualenv\n",
    "```"
   ]
  },
  {
   "cell_type": "markdown",
   "metadata": {},
   "source": [
    "## 3. [Simple Python Version Management: `pyenv`](https://github.com/pyenv/pyenv)\n",
    "\n",
    "Useful to install and use different versions of Python which are independent of the system's installed Python."
   ]
  },
  {
   "cell_type": "markdown",
   "metadata": {},
   "source": [
    "### 3.1 Install\n"
   ]
  },
  {
   "cell_type": "markdown",
   "metadata": {},
   "source": [
    "#### All Unixes (included OSX)\n",
    "Replace .bashrc by .bash_profile in OSX.\n",
    "```\n",
    "git clone https://github.com/pyenv/pyenv.git ~/.pyenv\n",
    "echo 'export PYENV_ROOT=\"$HOME/.pyenv\"' >> ~/.bashrc\n",
    "echo 'export PATH=\"$PYENV_ROOT/bin:$PATH\"' >> ~/.bashrc\n",
    "echo -e 'if command -v pyenv 1>/dev/null 2>&1; then\\n  eval \"$(pyenv init -)\"\\nfi' >> ~/.bashrc\n",
    "```"
   ]
  },
  {
   "cell_type": "markdown",
   "metadata": {},
   "source": [
    "### 3.2 Source configuration files\n",
    "```\n",
    "exec \"$SHELL\"\n",
    "```"
   ]
  },
  {
   "cell_type": "markdown",
   "metadata": {},
   "source": [
    "### 3.3 List available python versions\n",
    "```\n",
    "pyenv install --list\n",
    "```"
   ]
  },
  {
   "cell_type": "markdown",
   "metadata": {},
   "source": [
    "### 3.4 Compile Python\n",
    "\n",
    "#### Prerequisites\n",
    "\n",
    "##### Debians\n",
    "\n",
    "See [Common build problems](https://github.com/pyenv/pyenv/wiki/Common-build-problems) if you are unable to install an environment.\n",
    "\n",
    "Moreover, in order to have `tkinter` graphical interface avaiable, the `tk-dev` Linux package should have been installed.\n",
    "\n",
    "```\n",
    "sudo apt-get install tk-dev\n",
    "```\n",
    "\n",
    "##### OSX\n",
    "\n",
    "TODO\n",
    "\n",
    "##### Arch Linux\n",
    "\n",
    "```\n",
    "pacman -S gcc make\n",
    "```\n",
    "\n",
    "\n",
    "#### Download and compile\n",
    "\n",
    "```\n",
    "pyenv install 3.6.4\n",
    "```"
   ]
  },
  {
   "cell_type": "markdown",
   "metadata": {},
   "source": [
    "### 3.5 Uninstall\n",
    "Simply, remove the lines added to the configuration file and run:\n",
    "```\n",
    "rm -fr ~/.pyenv\n",
    "```"
   ]
  },
  {
   "cell_type": "markdown",
   "metadata": {},
   "source": [
    "### 3.6 Lists all Python versions known to pyenv\n",
    "```\n",
    "pyenv versions\n",
    "```"
   ]
  },
  {
   "cell_type": "markdown",
   "metadata": {},
   "source": [
    "### 3.7 Activate/Select a installed version of Python\n",
    "`pyenv` [local](https://github.com/pyenv/pyenv/blob/master/COMMANDS.md#pyenv-local)/[global](https://github.com/pyenv/pyenv/blob/master/COMMANDS.md#pyenv-global)/[shell](https://github.com/pyenv/pyenv/blob/master/COMMANDS.md#pyenv-shell) `3.6.1`"
   ]
  },
  {
   "cell_type": "markdown",
   "metadata": {},
   "source": [
    "### 3.8 Deactivate\n",
    "```\n",
    "pyenv local/global/shell system\n",
    "```"
   ]
  },
  {
   "cell_type": "markdown",
   "metadata": {},
   "source": [
    "### 3.9 Displays the currently active Python version\n",
    "```\n",
    "pyenv version\n",
    "```"
   ]
  },
  {
   "cell_type": "markdown",
   "metadata": {},
   "source": [
    "## 4. Copy virtual environments"
   ]
  },
  {
   "cell_type": "markdown",
   "metadata": {},
   "source": [
    "### 4.1 Get (through the `stdout`) the current \"state\" of the environmen\n",
    "\n",
    "```\n",
    "(yapt) $ pip freeze\n",
    "appnope==0.1.0\n",
    "cycler==0.10.0\n",
    "decorator==4.0.11\n",
    "ffmpy==0.2.2\n",
    "ipdb==0.10.2\n",
    "ipython==5.2.0\n",
    "ipython-genutils==0.1.0\n",
    "matplotlib==2.0.0\n",
    "mcdwt==1.0\n",
    "numpy==1.12.0\n",
    "pexpect==4.2.1\n",
    "pickleshare==0.7.4\n",
    "prompt-toolkit==1.0.9\n",
    "ptyprocess==0.5.1\n",
    "Pygments==2.2.0\n",
    "pyparsing==2.1.10\n",
    "pypng==0.0.18\n",
    "python-dateutil==2.6.0\n",
    "pytz==2016.10\n",
    "PyWavelets==0.5.1\n",
    "scipy==0.18.1\n",
    "simplegeneric==0.8.1\n",
    "six==1.10.0\n",
    "traitlets==4.3.1\n",
    "wcwidth==0.1.7\n",
    "\n",
    "```"
   ]
  },
  {
   "cell_type": "markdown",
   "metadata": {},
   "source": [
    "You can redirect the list of Python packages currently installed in the virtual environment to a file to remember a \"state\". Example:\n",
    "\n",
    "```\n",
    "$ pip freeze > environment_state.txt\n",
    "```"
   ]
  },
  {
   "cell_type": "markdown",
   "metadata": {},
   "source": [
    "### 4.2 Copy environments\n",
    "\n",
    "#### 4.2.1 Using `virtualenvwrapper`\n",
    "```\n",
    "(old-env) $ pip freeze > /tmp/environment_state.txt\n",
    "(old-env) $ deactivate\n",
    "$ mkvirtualenv -p python3 new-env\n",
    "(new-env) $ pip install -r /tmp/environment_state.txt\n",
    "```\n",
    "\n",
    "#### 4.2.2 Using `pyenv`\n",
    "```\n",
    "$ pip freeze > /tmp/environment_state.txt\n",
    "$ pyenv local 3.6.3 # For example\n",
    "$ pip install -r /tmp/environment_state.txt\n",
    "```"
   ]
  },
  {
   "cell_type": "markdown",
   "metadata": {},
   "source": [
    "<a id='pip'></a>\n",
    "## [`pip`](https://packaging.python.org/tutorials/installing-packages/#use-pip-for-installing): installing Python packages¶\n",
    "\n",
    "`pip` is a command-line tool for accesing to [PyPI - the standard Python's packages repository](https://pypi.python.org/pypi)."
   ]
  },
  {
   "cell_type": "code",
   "execution_count": null,
   "metadata": {},
   "outputs": [],
   "source": [
    "!pip search games | grep free"
   ]
  },
  {
   "cell_type": "code",
   "execution_count": null,
   "metadata": {},
   "outputs": [],
   "source": [
    "!pip install freegames"
   ]
  },
  {
   "cell_type": "code",
   "execution_count": null,
   "metadata": {},
   "outputs": [],
   "source": [
    "!pip install ipython"
   ]
  },
  {
   "cell_type": "code",
   "execution_count": null,
   "metadata": {},
   "outputs": [],
   "source": [
    "!pip show freegames"
   ]
  },
  {
   "cell_type": "code",
   "execution_count": null,
   "metadata": {},
   "outputs": [],
   "source": [
    "!pip uninstall freegames"
   ]
  },
  {
   "cell_type": "code",
   "execution_count": null,
   "metadata": {},
   "outputs": [],
   "source": [
    "!pip install --user freegames"
   ]
  },
  {
   "cell_type": "code",
   "execution_count": null,
   "metadata": {},
   "outputs": [],
   "source": [
    "!pip install --upgrade freegames"
   ]
  }
 ],
 "metadata": {
  "kernelspec": {
   "display_name": "Python 3",
   "language": "python",
   "name": "python3"
  },
  "language_info": {
   "codemirror_mode": {
    "name": "ipython",
    "version": 3
   },
   "file_extension": ".py",
   "mimetype": "text/x-python",
   "name": "python",
   "nbconvert_exporter": "python",
   "pygments_lexer": "ipython3",
   "version": "3.6.3"
  }
 },
 "nbformat": 4,
 "nbformat_minor": 1
}
