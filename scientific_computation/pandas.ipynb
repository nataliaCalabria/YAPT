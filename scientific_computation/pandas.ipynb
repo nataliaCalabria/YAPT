{
 "cells": [
  {
   "cell_type": "markdown",
   "metadata": {},
   "source": [
    "# [1] Scientific computation"
   ]
  },
  {
   "cell_type": "markdown",
   "metadata": {
    "toc": true
   },
   "source": [
    "<h1>Table of Contents<span class=\"tocSkip\"></span></h1>\n",
    "<div class=\"toc\"><ul class=\"toc-item\"><li><span><a href=\"#Some-arithmetic-insights\" data-toc-modified-id=\"Some-arithmetic-insights-1\"><span class=\"toc-item-num\">1&nbsp;&nbsp;</span>Some arithmetic insights</a></span><ul class=\"toc-item\"><li><span><a href=\"#Integers\" data-toc-modified-id=\"Integers-1.1\"><span class=\"toc-item-num\">1.1&nbsp;&nbsp;</span><a href=\"https://docs.python.org/3/c-api/long.html\" target=\"_blank\">Integers</a></a></span></li><li><span><a href=\"#Floats\" data-toc-modified-id=\"Floats-1.2\"><span class=\"toc-item-num\">1.2&nbsp;&nbsp;</span><a href=\"https://docs.python.org/3/tutorial/floatingpoint.html\" target=\"_blank\">Floats</a></a></span></li></ul></li><li><span><a href=\"#SciPy.org's-Numpy\" data-toc-modified-id=\"SciPy.org's-Numpy-2\"><span class=\"toc-item-num\">2&nbsp;&nbsp;</span>SciPy.org's <a href=\"http://www.numpy.org/\" target=\"_blank\">Numpy</a></a></span><ul class=\"toc-item\"><li><span><a href=\"#Installation\" data-toc-modified-id=\"Installation-2.1\"><span class=\"toc-item-num\">2.1&nbsp;&nbsp;</span>Installation</a></span></li><li><span><a href=\"#Why-numpy?\" data-toc-modified-id=\"Why-numpy?-2.2\"><span class=\"toc-item-num\">2.2&nbsp;&nbsp;</span>Why numpy?</a></span></li><li><span><a href=\"#Creating-(simple)-arrays-in-Numpy\" data-toc-modified-id=\"Creating-(simple)-arrays-in-Numpy-2.3\"><span class=\"toc-item-num\">2.3&nbsp;&nbsp;</span>Creating (simple) <a href=\"https://docs.scipy.org/doc/numpy-dev/user/quickstart.html\" target=\"_blank\">arrays</a> in Numpy</a></span></li><li><span><a href=\"#1D-arrays\" data-toc-modified-id=\"1D-arrays-2.4\"><span class=\"toc-item-num\">2.4&nbsp;&nbsp;</span>1D arrays</a></span></li><li><span><a href=\"#1.3.3.-2D-arrays\" data-toc-modified-id=\"1.3.3.-2D-arrays-2.5\"><span class=\"toc-item-num\">2.5&nbsp;&nbsp;</span>1.3.3. 2D arrays</a></span></li><li><span><a href=\"#1.3.4.-N-dimensional-array\" data-toc-modified-id=\"1.3.4.-N-dimensional-array-2.6\"><span class=\"toc-item-num\">2.6&nbsp;&nbsp;</span>1.3.4. N-dimensional array</a></span></li><li><span><a href=\"#1.4.-Slicing\" data-toc-modified-id=\"1.4.-Slicing-2.7\"><span class=\"toc-item-num\">2.7&nbsp;&nbsp;</span>1.4. Slicing</a></span></li><li><span><a href=\"#1.5.-Boolean-array-indexing\" data-toc-modified-id=\"1.5.-Boolean-array-indexing-2.8\"><span class=\"toc-item-num\">2.8&nbsp;&nbsp;</span>1.5. Boolean array indexing</a></span></li><li><span><a href=\"#1.6.-Elementwise-(vectorial-vectorial-and-vectorial-scalar)-math\" data-toc-modified-id=\"1.6.-Elementwise-(vectorial-vectorial-and-vectorial-scalar)-math-2.9\"><span class=\"toc-item-num\">2.9&nbsp;&nbsp;</span>1.6. Elementwise (vectorial-vectorial and vectorial-scalar) math</a></span></li><li><span><a href=\"#1.7.-Broadcasting\" data-toc-modified-id=\"1.7.-Broadcasting-2.10\"><span class=\"toc-item-num\">2.10&nbsp;&nbsp;</span>1.7. Broadcasting</a></span></li><li><span><a href=\"#1.8.-Matricial-math\" data-toc-modified-id=\"1.8.-Matricial-math-2.11\"><span class=\"toc-item-num\">2.11&nbsp;&nbsp;</span>1.8. Matricial math</a></span></li><li><span><a href=\"#1.9.-How-fast-is-Numpy's-array-math?\" data-toc-modified-id=\"1.9.-How-fast-is-Numpy's-array-math?-2.12\"><span class=\"toc-item-num\">2.12&nbsp;&nbsp;</span>1.9. How fast is Numpy's array math?</a></span></li><li><span><a href=\"#1.10.-Structured-arrays\" data-toc-modified-id=\"1.10.-Structured-arrays-2.13\"><span class=\"toc-item-num\">2.13&nbsp;&nbsp;</span>1.10. Structured arrays</a></span></li><li><span><a href=\"#Output-data-to-an-ASCII-file\" data-toc-modified-id=\"Output-data-to-an-ASCII-file-2.14\"><span class=\"toc-item-num\">2.14&nbsp;&nbsp;</span>Output data to an ASCII file</a></span></li></ul></li><li><span><a href=\"#2.-Matplotlib\" data-toc-modified-id=\"2.-Matplotlib-3\"><span class=\"toc-item-num\">3&nbsp;&nbsp;</span>2. <a href=\"http://matplotlib.org\" target=\"_blank\">Matplotlib</a></a></span><ul class=\"toc-item\"><li><span><a href=\"#2.1.-Installation\" data-toc-modified-id=\"2.1.-Installation-3.1\"><span class=\"toc-item-num\">3.1&nbsp;&nbsp;</span>2.1. Installation</a></span></li><li><span><a href=\"#2.2.-Configure-Matplotlib-in-line-of-IPython-(~Jupyter)-notebook\" data-toc-modified-id=\"2.2.-Configure-Matplotlib-in-line-of-IPython-(~Jupyter)-notebook-3.2\"><span class=\"toc-item-num\">3.2&nbsp;&nbsp;</span>2.2. Configure Matplotlib in-line of IPython (~Jupyter) notebook</a></span></li><li><span><a href=\"#2.3.-Importing-it\" data-toc-modified-id=\"2.3.-Importing-it-3.3\"><span class=\"toc-item-num\">3.3&nbsp;&nbsp;</span>2.3. Importing it</a></span></li><li><span><a href=\"#2.4.-Drawing-data-structures-(matrices):\" data-toc-modified-id=\"2.4.-Drawing-data-structures-(matrices):-3.4\"><span class=\"toc-item-num\">3.4&nbsp;&nbsp;</span>2.4. Drawing data structures (matrices):</a></span></li><li><span><a href=\"#2.5.-Drawing-2D-curves\" data-toc-modified-id=\"2.5.-Drawing-2D-curves-3.5\"><span class=\"toc-item-num\">3.5&nbsp;&nbsp;</span>2.5. Drawing 2D curves</a></span></li><li><span><a href=\"#2.6.-Drawing-3D-curves\" data-toc-modified-id=\"2.6.-Drawing-3D-curves-3.6\"><span class=\"toc-item-num\">3.6&nbsp;&nbsp;</span>2.6. Drawing 3D curves</a></span></li></ul></li><li><span><a href=\"#3.-SciPy\" data-toc-modified-id=\"3.-SciPy-4\"><span class=\"toc-item-num\">4&nbsp;&nbsp;</span>3. <a href=\"https://docs.scipy.org/doc/scipy/reference/\" target=\"_blank\">SciPy</a></a></span><ul class=\"toc-item\"><li><span><a href=\"#3.1.-Installation\" data-toc-modified-id=\"3.1.-Installation-4.1\"><span class=\"toc-item-num\">4.1&nbsp;&nbsp;</span>3.1. Installation</a></span></li><li><span><a href=\"#3.1.1.-Optimization-example\" data-toc-modified-id=\"3.1.1.-Optimization-example-4.2\"><span class=\"toc-item-num\">4.2&nbsp;&nbsp;</span>3.1.1. Optimization example</a></span></li></ul></li><li><span><a href=\"#4.-Pandas\" data-toc-modified-id=\"4.-Pandas-5\"><span class=\"toc-item-num\">5&nbsp;&nbsp;</span>4. <a href=\"http://pandas.pydata.org/\" target=\"_blank\">Pandas</a></a></span><ul class=\"toc-item\"><li><span><a href=\"#4.1.-Installation\" data-toc-modified-id=\"4.1.-Installation-5.1\"><span class=\"toc-item-num\">5.1&nbsp;&nbsp;</span>4.1. Installation</a></span></li><li><span><a href=\"#4.2.-Example\" data-toc-modified-id=\"4.2.-Example-5.2\"><span class=\"toc-item-num\">5.2&nbsp;&nbsp;</span>4.2. Example</a></span></li></ul></li><li><span><a href=\"#5.-SymPy\" data-toc-modified-id=\"5.-SymPy-6\"><span class=\"toc-item-num\">6&nbsp;&nbsp;</span>5. <a href=\"http://www.sympy.org/en/index.html\" target=\"_blank\">SymPy</a></a></span><ul class=\"toc-item\"><li><span><a href=\"#5.1.-Install\" data-toc-modified-id=\"5.1.-Install-6.1\"><span class=\"toc-item-num\">6.1&nbsp;&nbsp;</span>5.1. Install</a></span></li><li><span><a href=\"#5.2.-Example\" data-toc-modified-id=\"5.2.-Example-6.2\"><span class=\"toc-item-num\">6.2&nbsp;&nbsp;</span>5.2. Example</a></span></li></ul></li></ul></div>"
   ]
  },
  {
   "cell_type": "markdown",
   "metadata": {},
   "source": [
    "There are several packages that provide multidimensional data manipulation, optimization, regression, interpolation and visualization, among other possibilities."
   ]
  },
  {
   "cell_type": "markdown",
   "metadata": {},
   "source": [
    "## Some arithmetic insights"
   ]
  },
  {
   "cell_type": "markdown",
   "metadata": {},
   "source": [
    "### [Integers](https://docs.python.org/3/c-api/long.html)"
   ]
  },
  {
   "cell_type": "markdown",
   "metadata": {},
   "source": [
    "In python, integers have arbitrary precision and therefore we can represent an arbitrarily large range of integers (only limited by the available memory)."
   ]
  },
  {
   "cell_type": "code",
   "execution_count": 1,
   "metadata": {},
   "outputs": [
    {
     "name": "stdout",
     "output_type": "stream",
     "text": [
      "514949835672429280118340184962210764526557059561644551308225135656646772567852802341125202657808555553768425192667497268234055382589043229395747814284702360571674673819941501856557513477604134701802987908639670470095067188938102407\n",
      "<class 'int'>\n"
     ]
    }
   ],
   "source": [
    "x = 7**273\n",
    "print(x)\n",
    "print(type(x))"
   ]
  },
  {
   "cell_type": "markdown",
   "metadata": {},
   "source": [
    "### [Floats](https://docs.python.org/3/tutorial/floatingpoint.html)"
   ]
  },
  {
   "cell_type": "markdown",
   "metadata": {},
   "source": [
    "Python uses (hardware) [754 double precision representation](https://en.wikipedia.org/wiki/Double-precision_floating-point_format#IEEE_754_double-precision_binary_floating-point_format:_binary64) for floats. This means that some floats can be only represented approximately."
   ]
  },
  {
   "cell_type": "markdown",
   "metadata": {},
   "source": [
    "* Using [string format](https://docs.python.org/3.4/library/string.html#string-formatting) to see the precision limitation of **doubles** in Python. For example, it is impossible to represent exactly the number `0.1`:"
   ]
  },
  {
   "cell_type": "code",
   "execution_count": 2,
   "metadata": {},
   "outputs": [
    {
     "data": {
      "text/plain": [
       "'0.10000000000000000555111512312578270211815834045410156250000000000000000000000000'"
      ]
     },
     "execution_count": 2,
     "metadata": {},
     "output_type": "execute_result"
    }
   ],
   "source": [
    "format(0.1, '.80f')"
   ]
  },
  {
   "cell_type": "markdown",
   "metadata": {},
   "source": [
    "* This can give us *surprises*:"
   ]
  },
  {
   "cell_type": "code",
   "execution_count": 3,
   "metadata": {},
   "outputs": [
    {
     "data": {
      "text/plain": [
       "False"
      ]
     },
     "execution_count": 3,
     "metadata": {},
     "output_type": "execute_result"
    }
   ],
   "source": [
    ".1 + .1 + .1 == .3"
   ]
  },
  {
   "cell_type": "code",
   "execution_count": 4,
   "metadata": {},
   "outputs": [
    {
     "data": {
      "text/plain": [
       "True"
      ]
     },
     "execution_count": 4,
     "metadata": {},
     "output_type": "execute_result"
    }
   ],
   "source": [
    ".1  + .1 == .2"
   ]
  },
  {
   "cell_type": "markdown",
   "metadata": {},
   "source": [
    "* For \"infinite\" precision float arithmetic you can use [decimal](https://docs.python.org/3/library/decimal.html#module-decimal) or [mpmath](http://mpmath.org):"
   ]
  },
  {
   "cell_type": "code",
   "execution_count": 5,
   "metadata": {},
   "outputs": [],
   "source": [
    "from decimal import Decimal, getcontext"
   ]
  },
  {
   "cell_type": "markdown",
   "metadata": {},
   "source": [
    "* Getting 30 digits of 1/7:"
   ]
  },
  {
   "cell_type": "code",
   "execution_count": 6,
   "metadata": {
    "scrolled": true
   },
   "outputs": [
    {
     "data": {
      "text/plain": [
       "'0.14285714285714285714285714285714285714285714285714285714285714285714285714285714'"
      ]
     },
     "execution_count": 6,
     "metadata": {},
     "output_type": "execute_result"
    }
   ],
   "source": [
    "getcontext().prec=80\n",
    "format(Decimal(1)/Decimal(7), '.80f')"
   ]
  },
  {
   "cell_type": "markdown",
   "metadata": {},
   "source": [
    "* We can see how many digits are true of 1/7 using doubles:"
   ]
  },
  {
   "cell_type": "code",
   "execution_count": 7,
   "metadata": {},
   "outputs": [
    {
     "data": {
      "text/plain": [
       "'0.14285714285714284921269268124888185411691665649414062500000000000000000000000000'"
      ]
     },
     "execution_count": 7,
     "metadata": {},
     "output_type": "execute_result"
    }
   ],
   "source": [
    "format(1/7, '.80f')"
   ]
  },
  {
   "cell_type": "code",
   "execution_count": 8,
   "metadata": {},
   "outputs": [],
   "source": [
    "#12345678901234567 (17 digits)"
   ]
  },
  {
   "cell_type": "markdown",
   "metadata": {},
   "source": [
    "* Decimal arithmetic produces decimal objects:"
   ]
  },
  {
   "cell_type": "code",
   "execution_count": 9,
   "metadata": {},
   "outputs": [
    {
     "data": {
      "text/plain": [
       "Decimal('0.14285714285714285714285714285714285714285714285714285714285714285714285714285714')"
      ]
     },
     "execution_count": 9,
     "metadata": {},
     "output_type": "execute_result"
    }
   ],
   "source": [
    "Decimal(1)/Decimal(7)"
   ]
  },
  {
   "cell_type": "markdown",
   "metadata": {},
   "source": [
    "* Decimal objects can be printed with `format`:"
   ]
  },
  {
   "cell_type": "code",
   "execution_count": 10,
   "metadata": {},
   "outputs": [
    {
     "name": "stdout",
     "output_type": "stream",
     "text": [
      "0.14285714285714285714285714285714285714285714285714\n"
     ]
    }
   ],
   "source": [
    "print('{:.50f}'.format(Decimal(1)/Decimal(7)))"
   ]
  },
  {
   "cell_type": "markdown",
   "metadata": {},
   "source": [
    "* A more complex example: lets compute 1000 digits of the $\\pi$ number using the [Bailey–Borwein–Plouffe formula](https://en.wikipedia.org/wiki/Bailey%E2%80%93Borwein%E2%80%93Plouffe_formula):\n",
    "\n",
    "$$\n",
    "\\pi = \\sum_{k = 0}^{\\infty}\\Bigg[ \\frac{1}{16^k} \\left( \\frac{4}{8k + 1} - \\frac{2}{8k + 4} - \\frac{1}{8k + 5} - \\frac{1}{8k + 6} \\right) \\Bigg]\n",
    "$$"
   ]
  },
  {
   "cell_type": "code",
   "execution_count": 11,
   "metadata": {},
   "outputs": [
    {
     "data": {
      "text/plain": [
       "'3.1415926535897932384626433832795028841971693993751058209749445923078164062862089986280348253421170679821480865132823066470938446095505822317253594081284811174502841027019385211055596446229489549303819644288109756659334461284756482337867831652712019091456485669234603486104543266482133936072602491412737245870066063155881748815209209628292540917153643678925903600113305305488204665213841469519415116094330572703657595919530921861173819326117931051185480744623799627495673518857527248912279381830119491298336733624406566430860213949463952247371907021798609437027705392171762931767523846748184676694051320005681271452635608277857713427577896091736371787214684409012249534301465495853710507922796892589235420199561121290219608640344181598136297747713099605187072113499999983729780499510597317328160963185950244594553469083026425223082533446850352619311881710100031378387528865875332083814206171776691473035982534904287554687311595628638823537875937519577818577805321712268066130019278766111959092164201930'"
      ]
     },
     "execution_count": 11,
     "metadata": {},
     "output_type": "execute_result"
    }
   ],
   "source": [
    "# https://stackoverflow.com/questions/28284996/python-pi-calculation\n",
    "from decimal import Decimal, getcontext\n",
    "getcontext().prec=1000\n",
    "my_pi= sum(1/Decimal(16)**k * \n",
    "          (Decimal(4)/(8*k+1) - \n",
    "           Decimal(2)/(8*k+4) -\n",
    "           Decimal(1)/(8*k+5) -\n",
    "           Decimal(1)/(8*k+6)) for k in range(1000))\n",
    "'{:.1000f}'.format(my_pi)"
   ]
  },
  {
   "cell_type": "markdown",
   "metadata": {},
   "source": [
    "You can visit [100,000 Digits of Pi](http://www.geom.uiuc.edu/~huberty/math5337/groupe/digits.html) or [One Million Digits of Pi](http://www.piday.org/million/) to check the correctness this code."
   ]
  },
  {
   "cell_type": "markdown",
   "metadata": {
    "collapsed": true
   },
   "source": [
    "## SciPy.org's [Numpy](http://www.numpy.org/)\n",
    "\n",
    "Numpy provides a high-performance multidimensional array object."
   ]
  },
  {
   "cell_type": "markdown",
   "metadata": {},
   "source": [
    "### Installation"
   ]
  },
  {
   "cell_type": "markdown",
   "metadata": {},
   "source": [
    "```\n",
    "pip install numpy\n",
    "```"
   ]
  },
  {
   "cell_type": "markdown",
   "metadata": {},
   "source": [
    "### Why numpy?"
   ]
  },
  {
   "cell_type": "markdown",
   "metadata": {},
   "source": [
    "Good running times."
   ]
  },
  {
   "cell_type": "code",
   "execution_count": 12,
   "metadata": {},
   "outputs": [],
   "source": [
    "import numpy as np"
   ]
  },
  {
   "cell_type": "markdown",
   "metadata": {},
   "source": [
    "* Lets define a list and compute the sum of its elements, timing it:"
   ]
  },
  {
   "cell_type": "code",
   "execution_count": 13,
   "metadata": {},
   "outputs": [
    {
     "name": "stdout",
     "output_type": "stream",
     "text": [
      "<class 'list'> [0, 1, 2, 3, 4, 5, 6, 7, 8, 9]\n",
      "1.44 ms ± 105 µs per loop (mean ± std. dev. of 7 runs, 1000 loops each)\n"
     ]
    }
   ],
   "source": [
    "l = list(range(0,100000)); print(type(l), l[:10])\n",
    "%timeit sum(l)"
   ]
  },
  {
   "cell_type": "markdown",
   "metadata": {},
   "source": [
    "* An now, lets create a numpy's array and time the sum of its elements:"
   ]
  },
  {
   "cell_type": "code",
   "execution_count": 14,
   "metadata": {},
   "outputs": [
    {
     "name": "stdout",
     "output_type": "stream",
     "text": [
      "<class 'numpy.ndarray'> [0 1 2 3 4 5 6 7 8 9]\n",
      "84.9 µs ± 2.83 µs per loop (mean ± std. dev. of 7 runs, 10000 loops each)\n"
     ]
    }
   ],
   "source": [
    "a = np.arange(0, 100000); print(type(a), a[:10])\n",
    "%timeit np.sum(a)"
   ]
  },
  {
   "cell_type": "markdown",
   "metadata": {},
   "source": [
    "* And what about a *pure* C implementation of an equivalent computation: "
   ]
  },
  {
   "cell_type": "code",
   "execution_count": 15,
   "metadata": {},
   "outputs": [
    {
     "name": "stdout",
     "output_type": "stream",
     "text": [
      "#include <stdio.h>\n",
      "#include <time.h>\n",
      "#include \"sum_array_lib.c\"\n",
      "\n",
      "#define N 100000\n",
      "\n",
      "int main() {\n",
      "  double a[N];\n",
      "  int i;\n",
      "  clock_t start, end;\n",
      "  double cpu_time;\n",
      "  for(i=0; i<N; i++) {\n",
      "    a[i] = i;\n",
      "  }\n",
      "  start = clock();\n",
      "  double sum = sum_array(a,N);\n",
      "  end = clock();\n",
      "  printf(\"%f \", sum);\n",
      "  cpu_time = ((double) (end - start)) / CLOCKS_PER_SEC;\n",
      "  cpu_time *= 1000000;\n",
      "  printf(\"%f usegs\\n\", cpu_time);\n",
      "}\n",
      "4999950000.000000 166.000000 usegs\n",
      "4999950000.000000 150.000000 usegs\n",
      "4999950000.000000 151.000000 usegs\n",
      "4999950000.000000 265.000000 usegs\n",
      "4999950000.000000 152.000000 usegs\n",
      "4999950000.000000 184.000000 usegs\n",
      "4999950000.000000 150.000000 usegs\n",
      "4999950000.000000 150.000000 usegs\n",
      "4999950000.000000 151.000000 usegs\n",
      "4999950000.000000 152.000000 usegs\n",
      "4999950000.000000 151.000000 usegs\n",
      "4999950000.000000 151.000000 usegs\n",
      "4999950000.000000 151.000000 usegs\n",
      "4999950000.000000 152.000000 usegs\n",
      "4999950000.000000 151.000000 usegs\n",
      "4999950000.000000 150.000000 usegs\n",
      "4999950000.000000 151.000000 usegs\n",
      "4999950000.000000 150.000000 usegs\n",
      "4999950000.000000 150.000000 usegs\n",
      "4999950000.000000 151.000000 usegs\n",
      "4999950000.000000 150.000000 usegs\n",
      "4999950000.000000 150.000000 usegs\n",
      "4999950000.000000 150.000000 usegs\n",
      "4999950000.000000 151.000000 usegs\n",
      "4999950000.000000 151.000000 usegs\n",
      "4999950000.000000 151.000000 usegs\n",
      "4999950000.000000 151.000000 usegs\n",
      "4999950000.000000 152.000000 usegs\n",
      "4999950000.000000 151.000000 usegs\n",
      "4999950000.000000 150.000000 usegs\n",
      "4999950000.000000 151.000000 usegs\n",
      "4999950000.000000 151.000000 usegs\n",
      "4999950000.000000 151.000000 usegs\n",
      "4999950000.000000 150.000000 usegs\n",
      "4999950000.000000 150.000000 usegs\n",
      "4999950000.000000 150.000000 usegs\n",
      "4999950000.000000 183.000000 usegs\n",
      "4999950000.000000 150.000000 usegs\n",
      "4999950000.000000 151.000000 usegs\n",
      "4999950000.000000 151.000000 usegs\n",
      "4999950000.000000 150.000000 usegs\n",
      "4999950000.000000 177.000000 usegs\n",
      "4999950000.000000 169.000000 usegs\n",
      "4999950000.000000 158.000000 usegs\n",
      "4999950000.000000 152.000000 usegs\n",
      "4999950000.000000 150.000000 usegs\n",
      "4999950000.000000 150.000000 usegs\n",
      "4999950000.000000 179.000000 usegs\n",
      "4999950000.000000 181.000000 usegs\n",
      "4999950000.000000 151.000000 usegs\n",
      "4999950000.000000 169.000000 usegs\n",
      "4999950000.000000 150.000000 usegs\n",
      "4999950000.000000 150.000000 usegs\n",
      "4999950000.000000 173.000000 usegs\n",
      "4999950000.000000 174.000000 usegs\n",
      "4999950000.000000 166.000000 usegs\n",
      "4999950000.000000 150.000000 usegs\n",
      "4999950000.000000 150.000000 usegs\n",
      "4999950000.000000 150.000000 usegs\n",
      "4999950000.000000 150.000000 usegs\n",
      "4999950000.000000 151.000000 usegs\n",
      "4999950000.000000 150.000000 usegs\n",
      "4999950000.000000 151.000000 usegs\n",
      "4999950000.000000 168.000000 usegs\n",
      "4999950000.000000 150.000000 usegs\n",
      "4999950000.000000 150.000000 usegs\n",
      "4999950000.000000 150.000000 usegs\n",
      "4999950000.000000 151.000000 usegs\n",
      "4999950000.000000 154.000000 usegs\n",
      "4999950000.000000 150.000000 usegs\n",
      "4999950000.000000 151.000000 usegs\n",
      "4999950000.000000 150.000000 usegs\n",
      "4999950000.000000 151.000000 usegs\n",
      "4999950000.000000 150.000000 usegs\n",
      "4999950000.000000 150.000000 usegs\n",
      "4999950000.000000 150.000000 usegs\n",
      "4999950000.000000 151.000000 usegs\n",
      "4999950000.000000 150.000000 usegs\n",
      "4999950000.000000 151.000000 usegs\n",
      "4999950000.000000 150.000000 usegs\n",
      "4999950000.000000 151.000000 usegs\n",
      "130 ms ± 1.43 ms per loop (mean ± std. dev. of 7 runs, 10 loops each)\n"
     ]
    }
   ],
   "source": [
    "!cat sum_array.c\n",
    "!gcc -O3 sum_array.c -o sum_array\n",
    "%timeit !./sum_array"
   ]
  },
  {
   "cell_type": "markdown",
   "metadata": {},
   "source": [
    "* Another example:"
   ]
  },
  {
   "cell_type": "code",
   "execution_count": 16,
   "metadata": {},
   "outputs": [
    {
     "name": "stdout",
     "output_type": "stream",
     "text": [
      "0 1 2 3 4 5 6 7 8 9 \n",
      "196 ms ± 16.9 ms per loop (mean ± std. dev. of 7 runs, 10 loops each)\n",
      "[1, 2, 3, 4, 5, 6, 7, 8, 9, 10]\n",
      "2.64 ms ± 57.2 µs per loop (mean ± std. dev. of 7 runs, 100 loops each)\n",
      "[ 1  2  3  4  5  6  7  8  9 10]\n"
     ]
    }
   ],
   "source": [
    "# Example extracted from https://github.com/pyHPC/pyhpc-tutorial\n",
    "lst = range(1000000)\n",
    "\n",
    "for i in lst[:10]:\n",
    "    print(i, end=' ')\n",
    "print()\n",
    "\n",
    "%timeit [i + 1 for i in lst] # A Python list comprehension (iteration happens in C but with PyObjects)\n",
    "x = [i + 1 for i in lst]\n",
    "\n",
    "print(x[:10])\n",
    "\n",
    "arr = np.arange(1000000) # A NumPy list of integers\n",
    "%timeit arr + 1 # Use operator overloading for nice syntax, now iteration is in C with ints\n",
    "y = arr + 1\n",
    "\n",
    "print(y[:10])"
   ]
  },
  {
   "cell_type": "markdown",
   "metadata": {},
   "source": [
    "* Looking for information of numpy's *something*:"
   ]
  },
  {
   "cell_type": "code",
   "execution_count": 17,
   "metadata": {},
   "outputs": [
    {
     "name": "stdout",
     "output_type": "stream",
     "text": [
      "Search results for 'invert'\n",
      "---------------------------\n",
      "numpy.bitwise_not\n",
      "    Compute bit-wise inversion, or bit-wise NOT, element-wise.\n",
      "numpy.matrix.getI\n",
      "    Returns the (multiplicative) inverse of invertible `self`.\n",
      "numpy.in1d\n",
      "    Test whether each element of a 1-D array is also present in a second array.\n",
      "numpy.isin\n",
      "    Calculates `element in test_elements`, broadcasting over `element` only.\n",
      "numpy.transpose\n",
      "    Permute the dimensions of an array.\n",
      "numpy.linalg.inv\n",
      "    Compute the (multiplicative) inverse of a matrix.\n",
      "numpy.linalg.pinv\n",
      "    Compute the (Moore-Penrose) pseudo-inverse of a matrix.\n",
      "numpy.random.SFC64\n",
      "    BitGenerator for Chris Doty-Humphrey's Small Fast Chaotic PRNG.\n",
      "numpy.linalg.tensorinv\n",
      "    Compute the 'inverse' of an N-dimensional array.\n",
      "numpy.linalg.matrix_power\n",
      "    Raise a square matrix to the (integer) power `n`."
     ]
    }
   ],
   "source": [
    "np.lookfor('invert')"
   ]
  },
  {
   "cell_type": "markdown",
   "metadata": {},
   "source": [
    "* Remember that it's possible to use the tabulator to extend some command or to use a wildcard in Ipython to get the numpy's stuff:"
   ]
  },
  {
   "cell_type": "code",
   "execution_count": 18,
   "metadata": {},
   "outputs": [],
   "source": [
    "np.*?"
   ]
  },
  {
   "cell_type": "markdown",
   "metadata": {},
   "source": [
    "### Creating (simple) [arrays](https://docs.scipy.org/doc/numpy-dev/user/quickstart.html) in Numpy\n",
    "A simple array is a grid of values, all of the same type, indexed by a tuple of nonnegative integers."
   ]
  },
  {
   "cell_type": "markdown",
   "metadata": {},
   "source": [
    "### 1D arrays"
   ]
  },
  {
   "cell_type": "markdown",
   "metadata": {},
   "source": [
    "* Creating an empty array:"
   ]
  },
  {
   "cell_type": "code",
   "execution_count": 19,
   "metadata": {},
   "outputs": [
    {
     "data": {
      "text/plain": [
       "array([], dtype=uint8)"
      ]
     },
     "execution_count": 19,
     "metadata": {},
     "output_type": "execute_result"
    }
   ],
   "source": [
    "a = np.array([], dtype=np.uint8)\n",
    "a"
   ]
  },
  {
   "cell_type": "markdown",
   "metadata": {},
   "source": [
    "* Creating an array using a list:"
   ]
  },
  {
   "cell_type": "code",
   "execution_count": 20,
   "metadata": {},
   "outputs": [
    {
     "name": "stdout",
     "output_type": "stream",
     "text": [
      "<class 'list'>\n",
      "<class 'numpy.ndarray'>\n"
     ]
    }
   ],
   "source": [
    "a = np.array([1, 2, 3])\n",
    "print(type([1, 2, 3]))\n",
    "print(type(a))"
   ]
  },
  {
   "cell_type": "markdown",
   "metadata": {},
   "source": [
    "* Getting the number of dimensions of an array:"
   ]
  },
  {
   "cell_type": "code",
   "execution_count": 21,
   "metadata": {},
   "outputs": [
    {
     "name": "stdout",
     "output_type": "stream",
     "text": [
      "1\n"
     ]
    }
   ],
   "source": [
    "print(a.ndim)"
   ]
  },
  {
   "cell_type": "markdown",
   "metadata": {},
   "source": [
    "* Printing an array:"
   ]
  },
  {
   "cell_type": "code",
   "execution_count": 22,
   "metadata": {},
   "outputs": [
    {
     "name": "stdout",
     "output_type": "stream",
     "text": [
      "[1 2 3]\n"
     ]
    }
   ],
   "source": [
    "print(a)"
   ]
  },
  {
   "cell_type": "markdown",
   "metadata": {},
   "source": [
    "* Printing the *shape* (which always is a tuple) of an array:"
   ]
  },
  {
   "cell_type": "code",
   "execution_count": 23,
   "metadata": {},
   "outputs": [
    {
     "name": "stdout",
     "output_type": "stream",
     "text": [
      "(3,)\n"
     ]
    }
   ],
   "source": [
    "print(a.shape)"
   ]
  },
  {
   "cell_type": "markdown",
   "metadata": {},
   "source": [
    "* Native Python's [`len()`](https://docs.python.org/3.6/library/functions.html#len) also works:"
   ]
  },
  {
   "cell_type": "code",
   "execution_count": 24,
   "metadata": {},
   "outputs": [
    {
     "name": "stdout",
     "output_type": "stream",
     "text": [
      "3\n"
     ]
    }
   ],
   "source": [
    "print(len(a))"
   ]
  },
  {
   "cell_type": "markdown",
   "metadata": {},
   "source": [
    "* A more exotic definition using [`linspace()`](https://docs.scipy.org/doc/numpy-1.13.0/reference/generated/numpy.linspace.html):"
   ]
  },
  {
   "cell_type": "code",
   "execution_count": 25,
   "metadata": {},
   "outputs": [
    {
     "data": {
      "text/plain": [
       "array([1. , 1.6, 2.2, 2.8, 3.4, 4. ])"
      ]
     },
     "execution_count": 25,
     "metadata": {},
     "output_type": "execute_result"
    }
   ],
   "source": [
    "np.linspace(1., 4., 6)"
   ]
  },
  {
   "cell_type": "markdown",
   "metadata": {},
   "source": [
    "* Arrays can be created from different types of contaniers (which store complex numbers in this case):"
   ]
  },
  {
   "cell_type": "code",
   "execution_count": 32,
   "metadata": {},
   "outputs": [
    {
     "name": "stdout",
     "output_type": "stream",
     "text": [
      "<class 'list'> <class 'list'> <class 'tuple'>\n"
     ]
    },
    {
     "data": {
      "text/plain": [
       "array([[1. +0.j, 1. +0.j],\n",
       "       [1. +1.j, 0.3+0.j]])"
      ]
     },
     "execution_count": 32,
     "metadata": {},
     "output_type": "execute_result"
    }
   ],
   "source": [
    "c = [[1,1.0],(1+1j,.3)]\n",
    "print(type(c), type(c[0]), type(c[1]))\n",
    "x = np.array(c)\n",
    "x"
   ]
  },
  {
   "cell_type": "markdown",
   "metadata": {},
   "source": [
    "* Accessing to an element:"
   ]
  },
  {
   "cell_type": "code",
   "execution_count": 33,
   "metadata": {},
   "outputs": [
    {
     "name": "stdout",
     "output_type": "stream",
     "text": [
      "[1 2 3] 1 2\n"
     ]
    }
   ],
   "source": [
    "print(a, a[0], a[1])"
   ]
  },
  {
   "cell_type": "code",
   "execution_count": 34,
   "metadata": {},
   "outputs": [
    {
     "name": "stdout",
     "output_type": "stream",
     "text": [
      "[0 2 3]\n"
     ]
    }
   ],
   "source": [
    "a[0] = 0\n",
    "print(a)"
   ]
  },
  {
   "cell_type": "markdown",
   "metadata": {},
   "source": [
    "* Appending elements:"
   ]
  },
  {
   "cell_type": "code",
   "execution_count": 35,
   "metadata": {},
   "outputs": [
    {
     "data": {
      "text/plain": [
       "array([0, 2, 3, 4])"
      ]
     },
     "execution_count": 35,
     "metadata": {},
     "output_type": "execute_result"
    }
   ],
   "source": [
    "a = np.append(a, 4)\n",
    "a"
   ]
  },
  {
   "cell_type": "markdown",
   "metadata": {},
   "source": [
    "### 1.3.3. 2D arrays"
   ]
  },
  {
   "cell_type": "markdown",
   "metadata": {},
   "source": [
    "* Creating a 2D array with two 1D arrays:"
   ]
  },
  {
   "cell_type": "code",
   "execution_count": 36,
   "metadata": {},
   "outputs": [
    {
     "name": "stdout",
     "output_type": "stream",
     "text": [
      "[[1 2 3]\n",
      " [4 5 6]]\n",
      "(2, 3)\n",
      "5\n"
     ]
    }
   ],
   "source": [
    "b = np.array([[1,2,3],[4,5,6]])\n",
    "print(b)\n",
    "print(b.shape)\n",
    "print(b[1, 1])"
   ]
  },
  {
   "cell_type": "markdown",
   "metadata": {},
   "source": [
    "* With zeroes:"
   ]
  },
  {
   "cell_type": "code",
   "execution_count": 37,
   "metadata": {},
   "outputs": [
    {
     "name": "stdout",
     "output_type": "stream",
     "text": [
      "[[0. 0. 0. 0. 0.]\n",
      " [0. 0. 0. 0. 0.]\n",
      " [0. 0. 0. 0. 0.]\n",
      " [0. 0. 0. 0. 0.]\n",
      " [0. 0. 0. 0. 0.]]\n"
     ]
    }
   ],
   "source": [
    "a = np.zeros((5,5))\n",
    "print(a)"
   ]
  },
  {
   "cell_type": "markdown",
   "metadata": {},
   "source": [
    "* The default dtype is `float64`:"
   ]
  },
  {
   "cell_type": "code",
   "execution_count": 38,
   "metadata": {},
   "outputs": [
    {
     "name": "stdout",
     "output_type": "stream",
     "text": [
      "<class 'numpy.float64'>\n"
     ]
    }
   ],
   "source": [
    "print(type(a[0][0]))"
   ]
  },
  {
   "cell_type": "markdown",
   "metadata": {},
   "source": [
    "* With ones:"
   ]
  },
  {
   "cell_type": "code",
   "execution_count": 39,
   "metadata": {},
   "outputs": [
    {
     "name": "stdout",
     "output_type": "stream",
     "text": [
      "[[1. 1. 1. 1. 1.]\n",
      " [1. 1. 1. 1. 1.]\n",
      " [1. 1. 1. 1. 1.]\n",
      " [1. 1. 1. 1. 1.]\n",
      " [1. 1. 1. 1. 1.]]\n"
     ]
    }
   ],
   "source": [
    "a = np.ones((5,5))\n",
    "print(a)"
   ]
  },
  {
   "cell_type": "markdown",
   "metadata": {},
   "source": [
    "* With an arbitrary scalar:"
   ]
  },
  {
   "cell_type": "code",
   "execution_count": 40,
   "metadata": {},
   "outputs": [
    {
     "name": "stdout",
     "output_type": "stream",
     "text": [
      "[[2 2 2 2 2]\n",
      " [2 2 2 2 2]\n",
      " [2 2 2 2 2]\n",
      " [2 2 2 2 2]\n",
      " [2 2 2 2 2]]\n"
     ]
    }
   ],
   "source": [
    "a = np.full((5,5), 2)\n",
    "print(a)"
   ]
  },
  {
   "cell_type": "markdown",
   "metadata": {},
   "source": [
    "* The identity matrix:"
   ]
  },
  {
   "cell_type": "code",
   "execution_count": 41,
   "metadata": {},
   "outputs": [
    {
     "name": "stdout",
     "output_type": "stream",
     "text": [
      "[[1. 0. 0. 0. 0.]\n",
      " [0. 1. 0. 0. 0.]\n",
      " [0. 0. 1. 0. 0.]\n",
      " [0. 0. 0. 1. 0.]\n",
      " [0. 0. 0. 0. 1.]]\n"
     ]
    }
   ],
   "source": [
    "a = np.eye(5)\n",
    "print(a)"
   ]
  },
  {
   "cell_type": "markdown",
   "metadata": {},
   "source": [
    "* With random data:"
   ]
  },
  {
   "cell_type": "code",
   "execution_count": 42,
   "metadata": {},
   "outputs": [
    {
     "name": "stdout",
     "output_type": "stream",
     "text": [
      "[[0.76359604 0.37438693 0.9668897  0.21191937 0.57088537]\n",
      " [0.39113527 0.61198963 0.82669883 0.58168569 0.00714437]\n",
      " [0.11876243 0.28247245 0.25086161 0.43024645 0.32745178]\n",
      " [0.23669245 0.72280935 0.38548107 0.76023302 0.23836566]\n",
      " [0.81979262 0.61351946 0.41045962 0.0651604  0.6361771 ]]\n"
     ]
    }
   ],
   "source": [
    "a = np.random.random((5,5))\n",
    "print(a)"
   ]
  },
  {
   "cell_type": "code",
   "execution_count": 43,
   "metadata": {},
   "outputs": [
    {
     "name": "stdout",
     "output_type": "stream",
     "text": [
      "[[0.66206955 0.20171114 0.40630419 0.43529802 0.48162876]\n",
      " [0.63070354 0.3021124  0.77625059 0.32604168 0.67310305]\n",
      " [0.25258922 0.5058811  0.34380791 0.10797026 0.11196849]\n",
      " [0.98097959 0.34919788 0.29218995 0.85820573 0.54333858]\n",
      " [0.17121655 0.27729179 0.9991036  0.33722011 0.99512996]]\n"
     ]
    }
   ],
   "source": [
    "a = np.random.random((5,5))\n",
    "print(a)"
   ]
  },
  {
   "cell_type": "markdown",
   "metadata": {},
   "source": [
    "* Filled with [arbitrary](https://docs.scipy.org/doc/numpy-1.13.0/reference/generated/numpy.empty_like.html) data and with a previously defined shape:"
   ]
  },
  {
   "cell_type": "code",
   "execution_count": 44,
   "metadata": {},
   "outputs": [
    {
     "name": "stdout",
     "output_type": "stream",
     "text": [
      "[[0.66206955 0.20171114 0.40630419 0.43529802 0.48162876]\n",
      " [0.63070354 0.3021124  0.77625059 0.32604168 0.67310305]\n",
      " [0.25258922 0.5058811  0.34380791 0.10797026 0.11196849]\n",
      " [0.98097959 0.34919788 0.29218995 0.85820573 0.54333858]\n",
      " [0.17121655 0.27729179 0.9991036  0.33722011 0.99512996]]\n"
     ]
    }
   ],
   "source": [
    "b = np.empty_like(a)\n",
    "print(b)"
   ]
  },
  {
   "cell_type": "markdown",
   "metadata": {},
   "source": [
    "* With a 1D list comprehension:"
   ]
  },
  {
   "cell_type": "code",
   "execution_count": 45,
   "metadata": {},
   "outputs": [
    {
     "name": "stdout",
     "output_type": "stream",
     "text": [
      "[0 1 2 3 4] 1 (5,)\n"
     ]
    }
   ],
   "source": [
    "a = np.array([i for i in range(5)])\n",
    "print(a, a[1], a.shape)"
   ]
  },
  {
   "cell_type": "markdown",
   "metadata": {},
   "source": [
    "* With a 2D list comprehension:"
   ]
  },
  {
   "cell_type": "code",
   "execution_count": 46,
   "metadata": {},
   "outputs": [
    {
     "name": "stdout",
     "output_type": "stream",
     "text": [
      "[[ 0  1  2  3  4  5  6  7  8  9]\n",
      " [ 5  6  7  8  9 10 11 12 13 14]\n",
      " [10 11 12 13 14 15 16 17 18 19]\n",
      " [15 16 17 18 19 20 21 22 23 24]\n",
      " [20 21 22 23 24 25 26 27 28 29]] (5, 10)\n"
     ]
    }
   ],
   "source": [
    "a = np.array([[j+i*5 for j in range(10)] for i in range(5)])\n",
    "print(a, a.shape)"
   ]
  },
  {
   "cell_type": "markdown",
   "metadata": {},
   "source": [
    "* Accessing to a row of a matrix:"
   ]
  },
  {
   "cell_type": "code",
   "execution_count": 47,
   "metadata": {},
   "outputs": [
    {
     "data": {
      "text/plain": [
       "array([ 5,  6,  7,  8,  9, 10, 11, 12, 13, 14])"
      ]
     },
     "execution_count": 47,
     "metadata": {},
     "output_type": "execute_result"
    }
   ],
   "source": [
    "a[1] # Get row 2"
   ]
  },
  {
   "cell_type": "markdown",
   "metadata": {},
   "source": [
    "* Accessing to an element of a matrix:"
   ]
  },
  {
   "cell_type": "code",
   "execution_count": 48,
   "metadata": {},
   "outputs": [
    {
     "data": {
      "text/plain": [
       "7"
      ]
     },
     "execution_count": 48,
     "metadata": {},
     "output_type": "execute_result"
    }
   ],
   "source": [
    "a[1][2] # Get column 3 of row 2"
   ]
  },
  {
   "cell_type": "code",
   "execution_count": 49,
   "metadata": {},
   "outputs": [
    {
     "data": {
      "text/plain": [
       "7"
      ]
     },
     "execution_count": 49,
     "metadata": {},
     "output_type": "execute_result"
    }
   ],
   "source": [
    "a[1,2] # Get element of coordinates (1,2)"
   ]
  },
  {
   "cell_type": "markdown",
   "metadata": {},
   "source": [
    "* Getting elements of a matrix using \"integer array indexing\":"
   ]
  },
  {
   "cell_type": "code",
   "execution_count": 50,
   "metadata": {},
   "outputs": [
    {
     "name": "stdout",
     "output_type": "stream",
     "text": [
      "[[ 0  1  2  3  4  5  6  7  8  9]\n",
      " [ 5  6  7  8  9 10 11 12 13 14]\n",
      " [10 11 12 13 14 15 16 17 18 19]\n",
      " [15 16 17 18 19 20 21 22 23 24]\n",
      " [20 21 22 23 24 25 26 27 28 29]]\n",
      "[ 3  7 11]\n"
     ]
    }
   ],
   "source": [
    "print(a)\n",
    "print(a[[0, 1, 2], [3, 2, 1]])"
   ]
  },
  {
   "cell_type": "markdown",
   "metadata": {},
   "source": [
    "* The same integer array indexing using comprehension lists:"
   ]
  },
  {
   "cell_type": "code",
   "execution_count": 51,
   "metadata": {},
   "outputs": [
    {
     "name": "stdout",
     "output_type": "stream",
     "text": [
      "[ 3  7 11]\n"
     ]
    }
   ],
   "source": [
    "print(a[np.array([i for i in range(3)]), np.array([i for i in range(3,0,-1)])])"
   ]
  },
  {
   "cell_type": "markdown",
   "metadata": {},
   "source": [
    "* The same using [`np.arange()`](https://docs.scipy.org/doc/numpy-1.13.0/reference/generated/numpy.arange.html):"
   ]
  },
  {
   "cell_type": "code",
   "execution_count": 52,
   "metadata": {},
   "outputs": [
    {
     "name": "stdout",
     "output_type": "stream",
     "text": [
      "[0 1 2]\n",
      "[3 2 1]\n",
      "[ 3  7 11]\n"
     ]
    }
   ],
   "source": [
    "print(np.arange(3))\n",
    "print(np.arange(3,0,-1))\n",
    "print(a[np.arange(3), np.arange(3,0,-1)])"
   ]
  },
  {
   "cell_type": "markdown",
   "metadata": {},
   "source": [
    "### 1.3.4. N-dimensional array"
   ]
  },
  {
   "cell_type": "code",
   "execution_count": 53,
   "metadata": {},
   "outputs": [
    {
     "data": {
      "text/plain": [
       "array([[[[ 2.68156159e+154, -4.33073861e-311],\n",
       "         [ 2.25073505e-314,  2.36630943e-314],\n",
       "         [ 2.36616555e-314,  2.36616552e-314],\n",
       "         [ 2.25383969e-314,  2.36630952e-314]],\n",
       "\n",
       "        [[ 2.25729742e-314,  2.25729783e-314],\n",
       "         [ 2.25101095e-314,  2.36630962e-314],\n",
       "         [ 2.25730384e-314,  2.36616590e-314],\n",
       "         [ 2.25081006e-314,  2.36630974e-314]],\n",
       "\n",
       "        [[ 2.25035057e-314,  2.25074477e-314],\n",
       "         [ 2.36629934e-314,  2.25069889e-314],\n",
       "         [ 2.25178858e-314,  2.36630981e-314],\n",
       "         [ 2.25078711e-314,  2.27778440e-314]]],\n",
       "\n",
       "\n",
       "       [[[ 2.36617662e-314,  2.25730697e-314],\n",
       "         [ 2.25322667e-314,  2.27654410e-314],\n",
       "         [ 2.36151565e-314,  2.26494379e-314],\n",
       "         [ 2.26080363e-314,  2.36605115e-314]],\n",
       "\n",
       "        [[ 2.25180262e-314,  2.36630987e-314],\n",
       "         [ 2.27778444e-314,  2.36617672e-314],\n",
       "         [ 2.36630993e-314,  2.27669613e-314],\n",
       "         [ 2.36631003e-314,  2.36631012e-314]],\n",
       "\n",
       "        [[ 2.25382717e-314,  2.36617839e-314],\n",
       "         [ 2.27764920e-314,  2.27698663e-314],\n",
       "         [ 2.26872218e-314,  2.25074338e-314],\n",
       "         [ 2.25118524e-314,  3.33761304e-308]]]])"
      ]
     },
     "execution_count": 53,
     "metadata": {},
     "output_type": "execute_result"
    }
   ],
   "source": [
    "a = np.ndarray((2,3,4,2))\n",
    "a"
   ]
  },
  {
   "cell_type": "code",
   "execution_count": 54,
   "metadata": {},
   "outputs": [
    {
     "data": {
      "text/plain": [
       "(2, 3, 4, 2)"
      ]
     },
     "execution_count": 54,
     "metadata": {},
     "output_type": "execute_result"
    }
   ],
   "source": [
    "a.shape"
   ]
  },
  {
   "cell_type": "code",
   "execution_count": 55,
   "metadata": {},
   "outputs": [
    {
     "data": {
      "text/plain": [
       "(2, 3, 4, 2)"
      ]
     },
     "execution_count": 55,
     "metadata": {},
     "output_type": "execute_result"
    }
   ],
   "source": [
    "# The same can be done with:\n",
    "a = np.ndarray(2*3*4*2).reshape(2, 3, 4, 2)\n",
    "a.shape"
   ]
  },
  {
   "cell_type": "markdown",
   "metadata": {},
   "source": [
    "### 1.4. Slicing"
   ]
  },
  {
   "cell_type": "code",
   "execution_count": 56,
   "metadata": {},
   "outputs": [
    {
     "data": {
      "text/plain": [
       "array([[ 0,  1,  2,  3,  4,  5,  6,  7,  8,  9],\n",
       "       [ 5,  6,  7,  8,  9, 10, 11, 12, 13, 14],\n",
       "       [10, 11, 12, 13, 14, 15, 16, 17, 18, 19],\n",
       "       [15, 16, 17, 18, 19, 20, 21, 22, 23, 24],\n",
       "       [20, 21, 22, 23, 24, 25, 26, 27, 28, 29]])"
      ]
     },
     "execution_count": 56,
     "metadata": {},
     "output_type": "execute_result"
    }
   ],
   "source": [
    "a = np.array([[j+i*5 for j in range(10)] for i in range(5)])\n",
    "a"
   ]
  },
  {
   "cell_type": "markdown",
   "metadata": {},
   "source": [
    "* Get all rows of a matrix (the whole matrix):"
   ]
  },
  {
   "cell_type": "code",
   "execution_count": 57,
   "metadata": {},
   "outputs": [
    {
     "data": {
      "text/plain": [
       "array([[ 0,  1,  2,  3,  4,  5,  6,  7,  8,  9],\n",
       "       [ 5,  6,  7,  8,  9, 10, 11, 12, 13, 14],\n",
       "       [10, 11, 12, 13, 14, 15, 16, 17, 18, 19],\n",
       "       [15, 16, 17, 18, 19, 20, 21, 22, 23, 24],\n",
       "       [20, 21, 22, 23, 24, 25, 26, 27, 28, 29]])"
      ]
     },
     "execution_count": 57,
     "metadata": {},
     "output_type": "execute_result"
    }
   ],
   "source": [
    "a[:]"
   ]
  },
  {
   "cell_type": "code",
   "execution_count": 58,
   "metadata": {},
   "outputs": [
    {
     "name": "stdout",
     "output_type": "stream",
     "text": [
      "[[ 0  1  2  3  4  5  6  7  8  9]\n",
      " [ 5  6  7  8  9 10 11 12 13 14]\n",
      " [10 11 12 13 14 15 16 17 18 19]\n",
      " [15 16 17 18 19 20 21 22 23 24]\n",
      " [20 21 22 23 24 25 26 27 28 29]]\n"
     ]
    },
    {
     "data": {
      "text/plain": [
       "array([[ 0,  1,  2,  3,  4,  5,  6,  7,  8,  9],\n",
       "       [ 5,  6,  7,  8,  9, 10, 11, 12, 13, 14],\n",
       "       [10, 11, 12, 13, 14, 15, 16, 17, 18, 19],\n",
       "       [15, 16, 17, 18, 19, 20, 21, 22, 23, 24],\n",
       "       [20, 21, 22, 23, 24, 25, 26, 27, 28, 29]])"
      ]
     },
     "execution_count": 58,
     "metadata": {},
     "output_type": "execute_result"
    }
   ],
   "source": [
    "print(a)\n",
    "a[::] # Notation: [starting index : stoping index : step]\n",
    "# By default, start = 0, stop = maximum, step = 1"
   ]
  },
  {
   "cell_type": "code",
   "execution_count": 59,
   "metadata": {},
   "outputs": [
    {
     "name": "stdout",
     "output_type": "stream",
     "text": [
      "[[ 0  1  2  3  4  5  6  7  8  9]\n",
      " [ 5  6  7  8  9 10 11 12 13 14]\n",
      " [10 11 12 13 14 15 16 17 18 19]\n",
      " [15 16 17 18 19 20 21 22 23 24]\n",
      " [20 21 22 23 24 25 26 27 28 29]]\n"
     ]
    },
    {
     "data": {
      "text/plain": [
       "array([[ 0,  1,  2,  3,  4,  5,  6,  7,  8,  9],\n",
       "       [ 5,  6,  7,  8,  9, 10, 11, 12, 13, 14],\n",
       "       [10, 11, 12, 13, 14, 15, 16, 17, 18, 19],\n",
       "       [15, 16, 17, 18, 19, 20, 21, 22, 23, 24],\n",
       "       [20, 21, 22, 23, 24, 25, 26, 27, 28, 29]])"
      ]
     },
     "execution_count": 59,
     "metadata": {},
     "output_type": "execute_result"
    }
   ],
   "source": [
    "print(a)\n",
    "a[0:]"
   ]
  },
  {
   "cell_type": "code",
   "execution_count": 60,
   "metadata": {},
   "outputs": [
    {
     "name": "stdout",
     "output_type": "stream",
     "text": [
      "[[ 0  1  2  3  4  5  6  7  8  9]\n",
      " [ 5  6  7  8  9 10 11 12 13 14]\n",
      " [10 11 12 13 14 15 16 17 18 19]\n",
      " [15 16 17 18 19 20 21 22 23 24]\n",
      " [20 21 22 23 24 25 26 27 28 29]]\n"
     ]
    },
    {
     "data": {
      "text/plain": [
       "array([[ 0,  1,  2,  3,  4,  5,  6,  7,  8,  9],\n",
       "       [ 5,  6,  7,  8,  9, 10, 11, 12, 13, 14],\n",
       "       [10, 11, 12, 13, 14, 15, 16, 17, 18, 19],\n",
       "       [15, 16, 17, 18, 19, 20, 21, 22, 23, 24],\n",
       "       [20, 21, 22, 23, 24, 25, 26, 27, 28, 29]])"
      ]
     },
     "execution_count": 60,
     "metadata": {},
     "output_type": "execute_result"
    }
   ],
   "source": [
    "print(a)\n",
    "a[0::]"
   ]
  },
  {
   "cell_type": "code",
   "execution_count": 61,
   "metadata": {
    "scrolled": true
   },
   "outputs": [
    {
     "data": {
      "text/plain": [
       "array([[ 0,  1,  2,  3,  4,  5,  6,  7,  8,  9],\n",
       "       [ 5,  6,  7,  8,  9, 10, 11, 12, 13, 14],\n",
       "       [10, 11, 12, 13, 14, 15, 16, 17, 18, 19],\n",
       "       [15, 16, 17, 18, 19, 20, 21, 22, 23, 24],\n",
       "       [20, 21, 22, 23, 24, 25, 26, 27, 28, 29]])"
      ]
     },
     "execution_count": 61,
     "metadata": {},
     "output_type": "execute_result"
    }
   ],
   "source": [
    "a[:a.shape[1]]"
   ]
  },
  {
   "cell_type": "code",
   "execution_count": 62,
   "metadata": {},
   "outputs": [
    {
     "data": {
      "text/plain": [
       "array([[ 0,  1,  2,  3,  4,  5,  6,  7,  8,  9],\n",
       "       [ 5,  6,  7,  8,  9, 10, 11, 12, 13, 14],\n",
       "       [10, 11, 12, 13, 14, 15, 16, 17, 18, 19],\n",
       "       [15, 16, 17, 18, 19, 20, 21, 22, 23, 24],\n",
       "       [20, 21, 22, 23, 24, 25, 26, 27, 28, 29]])"
      ]
     },
     "execution_count": 62,
     "metadata": {},
     "output_type": "execute_result"
    }
   ],
   "source": [
    "a[:a.shape[1]:]"
   ]
  },
  {
   "cell_type": "markdown",
   "metadata": {},
   "source": [
    "* Get all rows of a matrix, except the first one:"
   ]
  },
  {
   "cell_type": "code",
   "execution_count": 63,
   "metadata": {},
   "outputs": [
    {
     "name": "stdout",
     "output_type": "stream",
     "text": [
      "[[ 0  1  2  3  4  5  6  7  8  9]\n",
      " [ 5  6  7  8  9 10 11 12 13 14]\n",
      " [10 11 12 13 14 15 16 17 18 19]\n",
      " [15 16 17 18 19 20 21 22 23 24]\n",
      " [20 21 22 23 24 25 26 27 28 29]]\n"
     ]
    },
    {
     "data": {
      "text/plain": [
       "array([[ 5,  6,  7,  8,  9, 10, 11, 12, 13, 14],\n",
       "       [10, 11, 12, 13, 14, 15, 16, 17, 18, 19],\n",
       "       [15, 16, 17, 18, 19, 20, 21, 22, 23, 24],\n",
       "       [20, 21, 22, 23, 24, 25, 26, 27, 28, 29]])"
      ]
     },
     "execution_count": 63,
     "metadata": {},
     "output_type": "execute_result"
    }
   ],
   "source": [
    "print(a)\n",
    "a[1:]"
   ]
  },
  {
   "cell_type": "code",
   "execution_count": 64,
   "metadata": {},
   "outputs": [
    {
     "name": "stdout",
     "output_type": "stream",
     "text": [
      "[[ 0  1  2  3  4  5  6  7  8  9]\n",
      " [ 5  6  7  8  9 10 11 12 13 14]\n",
      " [10 11 12 13 14 15 16 17 18 19]\n",
      " [15 16 17 18 19 20 21 22 23 24]\n",
      " [20 21 22 23 24 25 26 27 28 29]]\n"
     ]
    },
    {
     "data": {
      "text/plain": [
       "array([[ 5,  6,  7,  8,  9, 10, 11, 12, 13, 14],\n",
       "       [10, 11, 12, 13, 14, 15, 16, 17, 18, 19],\n",
       "       [15, 16, 17, 18, 19, 20, 21, 22, 23, 24],\n",
       "       [20, 21, 22, 23, 24, 25, 26, 27, 28, 29]])"
      ]
     },
     "execution_count": 64,
     "metadata": {},
     "output_type": "execute_result"
    }
   ],
   "source": [
    "print(a)\n",
    "a[1::]"
   ]
  },
  {
   "cell_type": "markdown",
   "metadata": {},
   "source": [
    "* Get the first two rows of a matrix:"
   ]
  },
  {
   "cell_type": "code",
   "execution_count": 65,
   "metadata": {},
   "outputs": [
    {
     "name": "stdout",
     "output_type": "stream",
     "text": [
      "[[ 0  1  2  3  4  5  6  7  8  9]\n",
      " [ 5  6  7  8  9 10 11 12 13 14]\n",
      " [10 11 12 13 14 15 16 17 18 19]\n",
      " [15 16 17 18 19 20 21 22 23 24]\n",
      " [20 21 22 23 24 25 26 27 28 29]]\n"
     ]
    },
    {
     "data": {
      "text/plain": [
       "array([[ 0,  1,  2,  3,  4,  5,  6,  7,  8,  9],\n",
       "       [ 5,  6,  7,  8,  9, 10, 11, 12, 13, 14]])"
      ]
     },
     "execution_count": 65,
     "metadata": {},
     "output_type": "execute_result"
    }
   ],
   "source": [
    "print(a)\n",
    "a[0:2]"
   ]
  },
  {
   "cell_type": "markdown",
   "metadata": {},
   "source": [
    "* Get the even rows of a matrix:"
   ]
  },
  {
   "cell_type": "code",
   "execution_count": 66,
   "metadata": {},
   "outputs": [
    {
     "name": "stdout",
     "output_type": "stream",
     "text": [
      "[[ 0  1  2  3  4  5  6  7  8  9]\n",
      " [ 5  6  7  8  9 10 11 12 13 14]\n",
      " [10 11 12 13 14 15 16 17 18 19]\n",
      " [15 16 17 18 19 20 21 22 23 24]\n",
      " [20 21 22 23 24 25 26 27 28 29]]\n"
     ]
    },
    {
     "data": {
      "text/plain": [
       "array([[ 0,  1,  2,  3,  4,  5,  6,  7,  8,  9],\n",
       "       [10, 11, 12, 13, 14, 15, 16, 17, 18, 19],\n",
       "       [20, 21, 22, 23, 24, 25, 26, 27, 28, 29]])"
      ]
     },
     "execution_count": 66,
     "metadata": {},
     "output_type": "execute_result"
    }
   ],
   "source": [
    "print(a)\n",
    "a[0::2]"
   ]
  },
  {
   "cell_type": "markdown",
   "metadata": {},
   "source": [
    "* Get the odd columns of a matrix:"
   ]
  },
  {
   "cell_type": "code",
   "execution_count": 67,
   "metadata": {},
   "outputs": [
    {
     "name": "stdout",
     "output_type": "stream",
     "text": [
      "[[ 0  1  2  3  4  5  6  7  8  9]\n",
      " [ 5  6  7  8  9 10 11 12 13 14]\n",
      " [10 11 12 13 14 15 16 17 18 19]\n",
      " [15 16 17 18 19 20 21 22 23 24]\n",
      " [20 21 22 23 24 25 26 27 28 29]]\n"
     ]
    },
    {
     "data": {
      "text/plain": [
       "array([[ 1,  3,  5,  7,  9],\n",
       "       [ 6,  8, 10, 12, 14],\n",
       "       [11, 13, 15, 17, 19],\n",
       "       [16, 18, 20, 22, 24],\n",
       "       [21, 23, 25, 27, 29]])"
      ]
     },
     "execution_count": 67,
     "metadata": {},
     "output_type": "execute_result"
    }
   ],
   "source": [
    "print(a)\n",
    "a[:,1::2]"
   ]
  },
  {
   "cell_type": "markdown",
   "metadata": {},
   "source": [
    "* Get the odd rows of a matrix:"
   ]
  },
  {
   "cell_type": "code",
   "execution_count": 68,
   "metadata": {},
   "outputs": [
    {
     "name": "stdout",
     "output_type": "stream",
     "text": [
      "[[ 0  1  2  3  4  5  6  7  8  9]\n",
      " [ 5  6  7  8  9 10 11 12 13 14]\n",
      " [10 11 12 13 14 15 16 17 18 19]\n",
      " [15 16 17 18 19 20 21 22 23 24]\n",
      " [20 21 22 23 24 25 26 27 28 29]]\n"
     ]
    },
    {
     "data": {
      "text/plain": [
       "array([[ 5,  6,  7,  8,  9, 10, 11, 12, 13, 14],\n",
       "       [15, 16, 17, 18, 19, 20, 21, 22, 23, 24]])"
      ]
     },
     "execution_count": 68,
     "metadata": {},
     "output_type": "execute_result"
    }
   ],
   "source": [
    "print(a)\n",
    "a[:][1::2]"
   ]
  },
  {
   "cell_type": "code",
   "execution_count": 69,
   "metadata": {},
   "outputs": [
    {
     "data": {
      "text/plain": [
       "array([[ 5,  6,  7,  8,  9, 10, 11, 12, 13, 14],\n",
       "       [15, 16, 17, 18, 19, 20, 21, 22, 23, 24]])"
      ]
     },
     "execution_count": 69,
     "metadata": {},
     "output_type": "execute_result"
    }
   ],
   "source": [
    "a[1::2]"
   ]
  },
  {
   "cell_type": "markdown",
   "metadata": {},
   "source": [
    "* Getting the second row:"
   ]
  },
  {
   "cell_type": "code",
   "execution_count": 70,
   "metadata": {},
   "outputs": [
    {
     "name": "stdout",
     "output_type": "stream",
     "text": [
      "[[ 0  1  2  3  4  5  6  7  8  9]\n",
      " [ 5  6  7  8  9 10 11 12 13 14]\n",
      " [10 11 12 13 14 15 16 17 18 19]\n",
      " [15 16 17 18 19 20 21 22 23 24]\n",
      " [20 21 22 23 24 25 26 27 28 29]]\n"
     ]
    },
    {
     "data": {
      "text/plain": [
       "array([ 5,  6,  7,  8,  9, 10, 11, 12, 13, 14])"
      ]
     },
     "execution_count": 70,
     "metadata": {},
     "output_type": "execute_result"
    }
   ],
   "source": [
    "print(a)\n",
    "a[1,:]"
   ]
  },
  {
   "cell_type": "markdown",
   "metadata": {},
   "source": [
    "* Getting the third column:"
   ]
  },
  {
   "cell_type": "code",
   "execution_count": 71,
   "metadata": {},
   "outputs": [
    {
     "name": "stdout",
     "output_type": "stream",
     "text": [
      "[[ 0  1  2  3  4  5  6  7  8  9]\n",
      " [ 5  6  7  8  9 10 11 12 13 14]\n",
      " [10 11 12 13 14 15 16 17 18 19]\n",
      " [15 16 17 18 19 20 21 22 23 24]\n",
      " [20 21 22 23 24 25 26 27 28 29]]\n"
     ]
    },
    {
     "data": {
      "text/plain": [
       "array([ 2,  7, 12, 17, 22])"
      ]
     },
     "execution_count": 71,
     "metadata": {},
     "output_type": "execute_result"
    }
   ],
   "source": [
    "print(a)\n",
    "a[:,2]"
   ]
  },
  {
   "cell_type": "markdown",
   "metadata": {},
   "source": [
    "* Getting a top-left $2\\times 2$ submatrix:"
   ]
  },
  {
   "cell_type": "code",
   "execution_count": 72,
   "metadata": {},
   "outputs": [
    {
     "name": "stdout",
     "output_type": "stream",
     "text": [
      "[[ 0  1  2  3  4  5  6  7  8  9]\n",
      " [ 5  6  7  8  9 10 11 12 13 14]\n",
      " [10 11 12 13 14 15 16 17 18 19]\n",
      " [15 16 17 18 19 20 21 22 23 24]\n",
      " [20 21 22 23 24 25 26 27 28 29]]\n"
     ]
    },
    {
     "data": {
      "text/plain": [
       "array([[0, 1],\n",
       "       [5, 6]])"
      ]
     },
     "execution_count": 72,
     "metadata": {},
     "output_type": "execute_result"
    }
   ],
   "source": [
    "print(a)\n",
    "a[:2,:2]"
   ]
  },
  {
   "cell_type": "markdown",
   "metadata": {},
   "source": [
    "* Getting a bottom-right $2\\times 2$ submatrix:"
   ]
  },
  {
   "cell_type": "code",
   "execution_count": 73,
   "metadata": {},
   "outputs": [
    {
     "name": "stdout",
     "output_type": "stream",
     "text": [
      "[[ 0  1  2  3  4  5  6  7  8  9]\n",
      " [ 5  6  7  8  9 10 11 12 13 14]\n",
      " [10 11 12 13 14 15 16 17 18 19]\n",
      " [15 16 17 18 19 20 21 22 23 24]\n",
      " [20 21 22 23 24 25 26 27 28 29]]\n"
     ]
    },
    {
     "data": {
      "text/plain": [
       "array([[23, 24],\n",
       "       [28, 29]])"
      ]
     },
     "execution_count": 73,
     "metadata": {},
     "output_type": "execute_result"
    }
   ],
   "source": [
    "print(a)\n",
    "a[a.shape[0]-2:,a.shape[1]-2:]"
   ]
  },
  {
   "cell_type": "code",
   "execution_count": 74,
   "metadata": {},
   "outputs": [
    {
     "data": {
      "text/plain": [
       "array([[23, 24],\n",
       "       [28, 29]])"
      ]
     },
     "execution_count": 74,
     "metadata": {},
     "output_type": "execute_result"
    }
   ],
   "source": [
    "a[a.shape[0]-2::,a.shape[1]-2::]"
   ]
  },
  {
   "cell_type": "markdown",
   "metadata": {},
   "source": [
    "* Sampling in horizontal every 2 elements, starting at row 2:"
   ]
  },
  {
   "cell_type": "code",
   "execution_count": 75,
   "metadata": {},
   "outputs": [
    {
     "name": "stdout",
     "output_type": "stream",
     "text": [
      "[[ 0  1  2  3  4  5  6  7  8  9]\n",
      " [ 5  6  7  8  9 10 11 12 13 14]\n",
      " [10 11 12 13 14 15 16 17 18 19]\n",
      " [15 16 17 18 19 20 21 22 23 24]\n",
      " [20 21 22 23 24 25 26 27 28 29]]\n"
     ]
    },
    {
     "data": {
      "text/plain": [
       "array([[ 1,  3,  5,  7,  9],\n",
       "       [ 6,  8, 10, 12, 14],\n",
       "       [11, 13, 15, 17, 19],\n",
       "       [16, 18, 20, 22, 24],\n",
       "       [21, 23, 25, 27, 29]])"
      ]
     },
     "execution_count": 75,
     "metadata": {},
     "output_type": "execute_result"
    }
   ],
   "source": [
    "print(a)\n",
    "a[:,1::2]"
   ]
  },
  {
   "cell_type": "markdown",
   "metadata": {},
   "source": [
    " ### 1.5. Boolean array indexing"
   ]
  },
  {
   "cell_type": "markdown",
   "metadata": {},
   "source": [
    "* Finding the elements bigger than ..."
   ]
  },
  {
   "cell_type": "code",
   "execution_count": 76,
   "metadata": {},
   "outputs": [
    {
     "name": "stdout",
     "output_type": "stream",
     "text": [
      "[[False False False False False False False False False False]\n",
      " [False False False False False False False False  True  True]\n",
      " [False False False  True  True  True  True  True  True  True]\n",
      " [ True  True  True  True  True  True  True  True  True  True]\n",
      " [ True  True  True  True  True  True  True  True  True  True]]\n"
     ]
    }
   ],
   "source": [
    "bool_idx = (a>12)\n",
    "print(bool_idx)"
   ]
  },
  {
   "cell_type": "markdown",
   "metadata": {},
   "source": [
    "* Printing the elements bigger than ..."
   ]
  },
  {
   "cell_type": "code",
   "execution_count": 77,
   "metadata": {},
   "outputs": [
    {
     "name": "stdout",
     "output_type": "stream",
     "text": [
      "[13 14 13 14 15 16 17 18 19 15 16 17 18 19 20 21 22 23 24 20 21 22 23 24\n",
      " 25 26 27 28 29]\n"
     ]
    }
   ],
   "source": [
    "print(a[bool_idx])"
   ]
  },
  {
   "cell_type": "markdown",
   "metadata": {},
   "source": [
    "### 1.6. Elementwise (vectorial-vectorial and vectorial-scalar) math"
   ]
  },
  {
   "cell_type": "markdown",
   "metadata": {},
   "source": [
    "* Create an zero-ed matrix:"
   ]
  },
  {
   "cell_type": "code",
   "execution_count": 78,
   "metadata": {},
   "outputs": [
    {
     "name": "stdout",
     "output_type": "stream",
     "text": [
      "[[0 0 0 0 0]\n",
      " [0 0 0 0 0]\n",
      " [0 0 0 0 0]\n",
      " [0 0 0 0 0]\n",
      " [0 0 0 0 0]]\n"
     ]
    }
   ],
   "source": [
    "a = np.zeros((5,5), np.int32)\n",
    "print(a)"
   ]
  },
  {
   "cell_type": "markdown",
   "metadata": {},
   "source": [
    "* Change to 1 from coordinate (1,1) to coordinate (4,4):"
   ]
  },
  {
   "cell_type": "code",
   "execution_count": 79,
   "metadata": {},
   "outputs": [
    {
     "name": "stdout",
     "output_type": "stream",
     "text": [
      "[[0 0 0 0 0]\n",
      " [0 1 1 1 0]\n",
      " [0 1 1 1 0]\n",
      " [0 1 1 1 0]\n",
      " [0 0 0 0 0]]\n"
     ]
    }
   ],
   "source": [
    "a[1:4,1:4] = 1\n",
    "print(a)"
   ]
  },
  {
   "cell_type": "markdown",
   "metadata": {},
   "source": [
    "* Vectorial-scalar addition:"
   ]
  },
  {
   "cell_type": "code",
   "execution_count": 80,
   "metadata": {},
   "outputs": [
    {
     "name": "stdout",
     "output_type": "stream",
     "text": [
      "[[0 0 0 0 0]\n",
      " [0 2 2 2 0]\n",
      " [0 2 2 2 0]\n",
      " [0 2 2 2 0]\n",
      " [0 0 0 0 0]]\n"
     ]
    }
   ],
   "source": [
    "a[1:4, 1:4] += 1\n",
    "print(a)"
   ]
  },
  {
   "cell_type": "markdown",
   "metadata": {},
   "source": [
    "* A new matrix:"
   ]
  },
  {
   "cell_type": "code",
   "execution_count": 81,
   "metadata": {},
   "outputs": [
    {
     "name": "stdout",
     "output_type": "stream",
     "text": [
      "[[1 1 1 1 1]\n",
      " [1 1 1 1 1]\n",
      " [1 1 1 1 1]\n",
      " [1 1 1 1 1]\n",
      " [1 1 1 1 1]]\n"
     ]
    }
   ],
   "source": [
    "b = np.ones((5,5), np.int32)\n",
    "print(b)"
   ]
  },
  {
   "cell_type": "markdown",
   "metadata": {},
   "source": [
    "* Vectorial addition:"
   ]
  },
  {
   "cell_type": "code",
   "execution_count": 82,
   "metadata": {},
   "outputs": [
    {
     "name": "stdout",
     "output_type": "stream",
     "text": [
      "[[1 1 1 1 1]\n",
      " [1 3 3 3 1]\n",
      " [1 3 3 3 1]\n",
      " [1 3 3 3 1]\n",
      " [1 1 1 1 1]]\n"
     ]
    }
   ],
   "source": [
    "c = a + b\n",
    "print(c)"
   ]
  },
  {
   "cell_type": "markdown",
   "metadata": {},
   "source": [
    "* Vectorial substraction:"
   ]
  },
  {
   "cell_type": "code",
   "execution_count": 83,
   "metadata": {},
   "outputs": [
    {
     "name": "stdout",
     "output_type": "stream",
     "text": [
      "[[0 0 0 0 0]\n",
      " [0 2 2 2 0]\n",
      " [0 2 2 2 0]\n",
      " [0 2 2 2 0]\n",
      " [0 0 0 0 0]]\n"
     ]
    }
   ],
   "source": [
    "d = c - b\n",
    "print(d)"
   ]
  },
  {
   "cell_type": "markdown",
   "metadata": {},
   "source": [
    "* Vectorial multiplication (not matrix multiplication!):"
   ]
  },
  {
   "cell_type": "code",
   "execution_count": 84,
   "metadata": {},
   "outputs": [
    {
     "name": "stdout",
     "output_type": "stream",
     "text": [
      "[[0 0 0 0 0]\n",
      " [0 6 6 6 0]\n",
      " [0 6 6 6 0]\n",
      " [0 6 6 6 0]\n",
      " [0 0 0 0 0]]\n"
     ]
    }
   ],
   "source": [
    "c = c * d\n",
    "print(c)"
   ]
  },
  {
   "cell_type": "markdown",
   "metadata": {},
   "source": [
    "* Floating-point vectorial division:"
   ]
  },
  {
   "cell_type": "code",
   "execution_count": 85,
   "metadata": {},
   "outputs": [
    {
     "name": "stdout",
     "output_type": "stream",
     "text": [
      "[[0. 0. 0. 0. 0.]\n",
      " [0. 6. 6. 6. 0.]\n",
      " [0. 6. 6. 6. 0.]\n",
      " [0. 6. 6. 6. 0.]\n",
      " [0. 0. 0. 0. 0.]]\n"
     ]
    }
   ],
   "source": [
    "c = c / b\n",
    "print(c)"
   ]
  },
  {
   "cell_type": "markdown",
   "metadata": {},
   "source": [
    "* Fixed-point (integer) vectorial division:"
   ]
  },
  {
   "cell_type": "code",
   "execution_count": 86,
   "metadata": {},
   "outputs": [
    {
     "name": "stdout",
     "output_type": "stream",
     "text": [
      "[[0 0 0 0 0]\n",
      " [0 2 2 2 0]\n",
      " [0 2 2 2 0]\n",
      " [0 2 2 2 0]\n",
      " [0 0 0 0 0]]\n"
     ]
    }
   ],
   "source": [
    "c = d // b\n",
    "print(c)"
   ]
  },
  {
   "cell_type": "markdown",
   "metadata": {},
   "source": [
    "### 1.7. Broadcasting\n",
    "In vectorized operations, NumPy \"extends\" scalars and arrays with one of its dimensions equal to 1 to the size of the other(s) array(s)."
   ]
  },
  {
   "cell_type": "code",
   "execution_count": 87,
   "metadata": {},
   "outputs": [
    {
     "data": {
      "text/plain": [
       "array([[1., 1., 1.],\n",
       "       [1., 1., 1.],\n",
       "       [1., 1., 1.],\n",
       "       [1., 1., 1.],\n",
       "       [1., 1., 1.]])"
      ]
     },
     "execution_count": 87,
     "metadata": {},
     "output_type": "execute_result"
    }
   ],
   "source": [
    "a = np.ones((5,3))\n",
    "a"
   ]
  },
  {
   "cell_type": "code",
   "execution_count": 88,
   "metadata": {},
   "outputs": [
    {
     "data": {
      "text/plain": [
       "array([0])"
      ]
     },
     "execution_count": 88,
     "metadata": {},
     "output_type": "execute_result"
    }
   ],
   "source": [
    "b = np.arange(1)\n",
    "b"
   ]
  },
  {
   "cell_type": "code",
   "execution_count": 89,
   "metadata": {},
   "outputs": [
    {
     "data": {
      "text/plain": [
       "array([1])"
      ]
     },
     "execution_count": 89,
     "metadata": {},
     "output_type": "execute_result"
    }
   ],
   "source": [
    "b += 1\n",
    "b"
   ]
  },
  {
   "cell_type": "markdown",
   "metadata": {},
   "source": [
    "* Broadcasting of a $1\\times 1$ matrix:"
   ]
  },
  {
   "cell_type": "code",
   "execution_count": 90,
   "metadata": {},
   "outputs": [
    {
     "data": {
      "text/plain": [
       "array([[2., 2., 2.],\n",
       "       [2., 2., 2.],\n",
       "       [2., 2., 2.],\n",
       "       [2., 2., 2.],\n",
       "       [2., 2., 2.]])"
      ]
     },
     "execution_count": 90,
     "metadata": {},
     "output_type": "execute_result"
    }
   ],
   "source": [
    "a+b # 'a' is 5x3 and 'b' is 1x1"
   ]
  },
  {
   "cell_type": "markdown",
   "metadata": {},
   "source": [
    "* Broadcasting of a $1\\times 3$ matrix:"
   ]
  },
  {
   "cell_type": "code",
   "execution_count": 91,
   "metadata": {},
   "outputs": [
    {
     "data": {
      "text/plain": [
       "array([0, 1, 2])"
      ]
     },
     "execution_count": 91,
     "metadata": {},
     "output_type": "execute_result"
    }
   ],
   "source": [
    "b = np.arange(3)\n",
    "b"
   ]
  },
  {
   "cell_type": "code",
   "execution_count": 92,
   "metadata": {},
   "outputs": [
    {
     "data": {
      "text/plain": [
       "array([[1., 2., 3.],\n",
       "       [1., 2., 3.],\n",
       "       [1., 2., 3.],\n",
       "       [1., 2., 3.],\n",
       "       [1., 2., 3.]])"
      ]
     },
     "execution_count": 92,
     "metadata": {},
     "output_type": "execute_result"
    }
   ],
   "source": [
    "a+b # 'a' is 5x3 and 'b' is '1x3'"
   ]
  },
  {
   "cell_type": "markdown",
   "metadata": {},
   "source": [
    "* Broadcasting of a $5\\times 1$ matrix:"
   ]
  },
  {
   "cell_type": "code",
   "execution_count": 93,
   "metadata": {},
   "outputs": [
    {
     "data": {
      "text/plain": [
       "array([0, 1, 2, 3, 4])"
      ]
     },
     "execution_count": 93,
     "metadata": {},
     "output_type": "execute_result"
    }
   ],
   "source": [
    "b = np.arange(5)\n",
    "b"
   ]
  },
  {
   "cell_type": "code",
   "execution_count": 94,
   "metadata": {},
   "outputs": [
    {
     "data": {
      "text/plain": [
       "array([[0],\n",
       "       [1],\n",
       "       [2],\n",
       "       [3],\n",
       "       [4]])"
      ]
     },
     "execution_count": 94,
     "metadata": {},
     "output_type": "execute_result"
    }
   ],
   "source": [
    "b = b.reshape((5,1)) # (Rows, Columns)\n",
    "b"
   ]
  },
  {
   "cell_type": "code",
   "execution_count": 95,
   "metadata": {},
   "outputs": [
    {
     "data": {
      "text/plain": [
       "array([[1., 1., 1.],\n",
       "       [2., 2., 2.],\n",
       "       [3., 3., 3.],\n",
       "       [4., 4., 4.],\n",
       "       [5., 5., 5.]])"
      ]
     },
     "execution_count": 95,
     "metadata": {},
     "output_type": "execute_result"
    }
   ],
   "source": [
    "a+b"
   ]
  },
  {
   "cell_type": "markdown",
   "metadata": {},
   "source": [
    "* If the arrays have different shapes and s can not be \"broadcasted\", `ValueError: frames are not aligned` is thrown."
   ]
  },
  {
   "cell_type": "code",
   "execution_count": 96,
   "metadata": {},
   "outputs": [
    {
     "data": {
      "text/plain": [
       "array([[0],\n",
       "       [1],\n",
       "       [2],\n",
       "       [3]])"
      ]
     },
     "execution_count": 96,
     "metadata": {},
     "output_type": "execute_result"
    }
   ],
   "source": [
    "b = np.arange(4)[:, None]\n",
    "b"
   ]
  },
  {
   "cell_type": "code",
   "execution_count": 97,
   "metadata": {},
   "outputs": [
    {
     "data": {
      "text/plain": [
       "(5, 3)"
      ]
     },
     "execution_count": 97,
     "metadata": {},
     "output_type": "execute_result"
    }
   ],
   "source": [
    "a.shape"
   ]
  },
  {
   "cell_type": "code",
   "execution_count": 98,
   "metadata": {},
   "outputs": [
    {
     "data": {
      "text/plain": [
       "(4, 1)"
      ]
     },
     "execution_count": 98,
     "metadata": {},
     "output_type": "execute_result"
    }
   ],
   "source": [
    "b.shape"
   ]
  },
  {
   "cell_type": "code",
   "execution_count": 99,
   "metadata": {},
   "outputs": [
    {
     "ename": "ValueError",
     "evalue": "operands could not be broadcast together with shapes (5,3) (4,1) ",
     "output_type": "error",
     "traceback": [
      "\u001b[0;31m---------------------------------------------------------------------------\u001b[0m",
      "\u001b[0;31mValueError\u001b[0m                                Traceback (most recent call last)",
      "\u001b[0;32m<ipython-input-99-ca730b97bf8a>\u001b[0m in \u001b[0;36m<module>\u001b[0;34m\u001b[0m\n\u001b[0;32m----> 1\u001b[0;31m \u001b[0ma\u001b[0m\u001b[0;34m+\u001b[0m\u001b[0mb\u001b[0m\u001b[0;34m\u001b[0m\u001b[0;34m\u001b[0m\u001b[0m\n\u001b[0m",
      "\u001b[0;31mValueError\u001b[0m: operands could not be broadcast together with shapes (5,3) (4,1) "
     ]
    }
   ],
   "source": [
    "a+b"
   ]
  },
  {
   "cell_type": "markdown",
   "metadata": {},
   "source": [
    "### 1.8. Matricial math\n",
    "Provides basic matrix computation."
   ]
  },
  {
   "cell_type": "markdown",
   "metadata": {},
   "source": [
    "* Let's define a \"chessboard\" matrix:"
   ]
  },
  {
   "cell_type": "code",
   "execution_count": null,
   "metadata": {},
   "outputs": [],
   "source": [
    "a = np.array([[(i+j)%2 for j in range(10)] for i in range(10)])\n",
    "print(a, a.shape)"
   ]
  },
  {
   "cell_type": "markdown",
   "metadata": {},
   "source": [
    "... and a 1-column matrix:"
   ]
  },
  {
   "cell_type": "code",
   "execution_count": null,
   "metadata": {},
   "outputs": [],
   "source": [
    "b = np.array([[1] for i in range(10)])\n",
    "print(b, b.shape)"
   ]
  },
  {
   "cell_type": "markdown",
   "metadata": {},
   "source": [
    "* Product matrix-matrix:"
   ]
  },
  {
   "cell_type": "code",
   "execution_count": null,
   "metadata": {},
   "outputs": [],
   "source": [
    "c = np.dot(a,b)\n",
    "print(c)"
   ]
  },
  {
   "cell_type": "markdown",
   "metadata": {},
   "source": [
    "* Sum of all elements of a matrix:"
   ]
  },
  {
   "cell_type": "code",
   "execution_count": null,
   "metadata": {},
   "outputs": [],
   "source": [
    "print(np.sum(c))"
   ]
  },
  {
   "cell_type": "code",
   "execution_count": null,
   "metadata": {},
   "outputs": [],
   "source": [
    "print(np.sum(a))"
   ]
  },
  {
   "cell_type": "markdown",
   "metadata": {},
   "source": [
    "* Compute the maximum of a matrix:"
   ]
  },
  {
   "cell_type": "code",
   "execution_count": null,
   "metadata": {},
   "outputs": [],
   "source": [
    "print(np.max(c))"
   ]
  },
  {
   "cell_type": "markdown",
   "metadata": {},
   "source": [
    "* Matrix transpose:"
   ]
  },
  {
   "cell_type": "code",
   "execution_count": null,
   "metadata": {},
   "outputs": [],
   "source": [
    "print(c.T, c.T.shape, c.shape)"
   ]
  },
  {
   "cell_type": "markdown",
   "metadata": {},
   "source": [
    "### 1.9. How fast is Numpy's array math?"
   ]
  },
  {
   "cell_type": "code",
   "execution_count": null,
   "metadata": {},
   "outputs": [],
   "source": [
    "a = np.array([[(i*10+j) for j in range(10)] for i in range(10)])\n",
    "print(a, a.shape)"
   ]
  },
  {
   "cell_type": "code",
   "execution_count": null,
   "metadata": {},
   "outputs": [],
   "source": [
    "a[:1] # First row (a matrix)"
   ]
  },
  {
   "cell_type": "code",
   "execution_count": null,
   "metadata": {},
   "outputs": [],
   "source": [
    "a[:1].shape"
   ]
  },
  {
   "cell_type": "code",
   "execution_count": null,
   "metadata": {},
   "outputs": [],
   "source": [
    "a[:1][0] # First element of a matrix of one elment (a vector)"
   ]
  },
  {
   "cell_type": "code",
   "execution_count": null,
   "metadata": {},
   "outputs": [],
   "source": [
    "a[:1][0].shape"
   ]
  },
  {
   "cell_type": "code",
   "execution_count": null,
   "metadata": {},
   "outputs": [],
   "source": [
    "b = a[:1][0]\n",
    "b"
   ]
  },
  {
   "cell_type": "markdown",
   "metadata": {},
   "source": [
    "* Add `b[]` to all the rows of `a[][]` using scalar arithmetic:"
   ]
  },
  {
   "cell_type": "code",
   "execution_count": null,
   "metadata": {},
   "outputs": [],
   "source": [
    "c = np.empty_like(a)\n",
    "def add():\n",
    "    for i in range(a.shape[1]):\n",
    "        for j in range(a.shape[0]):\n",
    "            c[i, j] = a[i, j] + b[j]\n",
    "%timeit add()\n",
    "print(c)"
   ]
  },
  {
   "cell_type": "markdown",
   "metadata": {},
   "source": [
    "* Add `b[]` to all the rows of `a[][]` using vectorial arithmetic:"
   ]
  },
  {
   "cell_type": "code",
   "execution_count": null,
   "metadata": {},
   "outputs": [],
   "source": [
    "c = np.empty_like(a)\n",
    "def add():\n",
    "    for i in range(a.shape[1]):\n",
    "        c[i, :] = a[i, :] + b\n",
    "%timeit add()\n",
    "print(c)"
   ]
  },
  {
   "cell_type": "markdown",
   "metadata": {},
   "source": [
    "* Add `b[]` to all the rows of `a[][]` using fully vectorial arithmetic:"
   ]
  },
  {
   "cell_type": "code",
   "execution_count": null,
   "metadata": {},
   "outputs": [],
   "source": [
    "%timeit c = a + b # <- broadcasting is faster\n",
    "print(c)"
   ]
  },
  {
   "cell_type": "markdown",
   "metadata": {},
   "source": [
    "### 1.10. Structured arrays"
   ]
  },
  {
   "cell_type": "markdown",
   "metadata": {},
   "source": [
    "* Create a 1D array of (two) records, where each record has the structure (int, float, char[10])."
   ]
  },
  {
   "cell_type": "code",
   "execution_count": null,
   "metadata": {},
   "outputs": [],
   "source": [
    "x = np.array([(1,2.,'Hello'), (3,4.,\"World\")],\n",
    "             dtype=[('first', 'i4'),('second', 'f4'), ('third', 'S10')])\n",
    "x"
   ]
  },
  {
   "cell_type": "markdown",
   "metadata": {},
   "source": [
    "* Get the first element of every record:"
   ]
  },
  {
   "cell_type": "code",
   "execution_count": null,
   "metadata": {},
   "outputs": [],
   "source": [
    "x['first']"
   ]
  },
  {
   "cell_type": "markdown",
   "metadata": {},
   "source": [
    "* Get the first record:"
   ]
  },
  {
   "cell_type": "code",
   "execution_count": null,
   "metadata": {},
   "outputs": [],
   "source": [
    "x[0]"
   ]
  },
  {
   "cell_type": "markdown",
   "metadata": {},
   "source": [
    "* Get the second element of every record:"
   ]
  },
  {
   "cell_type": "code",
   "execution_count": null,
   "metadata": {},
   "outputs": [],
   "source": [
    "x['second']"
   ]
  },
  {
   "cell_type": "markdown",
   "metadata": {},
   "source": [
    "* Third element of every record:"
   ]
  },
  {
   "cell_type": "code",
   "execution_count": null,
   "metadata": {},
   "outputs": [],
   "source": [
    "x['third']"
   ]
  },
  {
   "cell_type": "markdown",
   "metadata": {},
   "source": [
    "### Output data to an ASCII file"
   ]
  },
  {
   "cell_type": "code",
   "execution_count": 26,
   "metadata": {},
   "outputs": [
    {
     "name": "stdout",
     "output_type": "stream",
     "text": [
      "1.000000000000000000e+00 2.000000000000000000e+02\r\n",
      "2.000000000000000000e+00 1.500000000000000000e+02\r\n",
      "3.000000000000000000e+00 2.500000000000000000e+02\r\n"
     ]
    }
   ],
   "source": [
    "data = np.array([[1., 200.], [2., 150.], [3., 250.]])\n",
    "np.savetxt('data.txt', data)\n",
    "!cat data.txt"
   ]
  },
  {
   "cell_type": "markdown",
   "metadata": {},
   "source": [
    "* Input data from an ASCII file:"
   ]
  },
  {
   "cell_type": "code",
   "execution_count": 27,
   "metadata": {},
   "outputs": [
    {
     "data": {
      "text/plain": [
       "array([[  1., 200.],\n",
       "       [  2., 150.],\n",
       "       [  3., 250.]])"
      ]
     },
     "execution_count": 27,
     "metadata": {},
     "output_type": "execute_result"
    }
   ],
   "source": [
    "np.genfromtxt('data.txt')"
   ]
  },
  {
   "cell_type": "markdown",
   "metadata": {},
   "source": [
    "* Output data to a binary file:"
   ]
  },
  {
   "cell_type": "code",
   "execution_count": 28,
   "metadata": {},
   "outputs": [],
   "source": [
    "ofile = open(\"data.float64\", mode='wb')\n",
    "data.tofile(ofile)"
   ]
  },
  {
   "cell_type": "markdown",
   "metadata": {},
   "source": [
    "* Input data from a binary file:"
   ]
  },
  {
   "cell_type": "code",
   "execution_count": 29,
   "metadata": {},
   "outputs": [
    {
     "data": {
      "text/plain": [
       "array([  1., 200.,   2., 150.,   3., 250.])"
      ]
     },
     "execution_count": 29,
     "metadata": {},
     "output_type": "execute_result"
    }
   ],
   "source": [
    "np.fromfile('data.float64', dtype=np.float64)"
   ]
  },
  {
   "cell_type": "markdown",
   "metadata": {},
   "source": [
    "* Create a binary file using C:"
   ]
  },
  {
   "cell_type": "code",
   "execution_count": 30,
   "metadata": {},
   "outputs": [
    {
     "name": "stdout",
     "output_type": "stream",
     "text": [
      "#include <stdio.h>\n",
      "\n",
      "#define N 10\n",
      "\n",
      "int main() {\n",
      "  double a[N];\n",
      "  int i;\n",
      "  FILE *ofile = fopen(\"data.float64\", \"wb\");\n",
      "  for(i=0; i<N; i++) {\n",
      "    a[i] = i;\n",
      "  }\n",
      "  fwrite(a, sizeof(double), N, ofile);\n",
      "  fclose(ofile);\n",
      "  fprintf(stderr,\"create_float64: done\\n\");\n",
      "}\n",
      "create_float64: done\n"
     ]
    }
   ],
   "source": [
    "!cat create_float64.c\n",
    "!gcc create_float64.c -o create_float64\n",
    "!./create_float64"
   ]
  },
  {
   "cell_type": "markdown",
   "metadata": {},
   "source": [
    "* Input data from the file created in C:"
   ]
  },
  {
   "cell_type": "code",
   "execution_count": 31,
   "metadata": {},
   "outputs": [
    {
     "data": {
      "text/plain": [
       "array([0., 1., 2., 3., 4., 5., 6., 7., 8., 9.])"
      ]
     },
     "execution_count": 31,
     "metadata": {},
     "output_type": "execute_result"
    }
   ],
   "source": [
    "np.fromfile('data.float64', dtype=np.float64)"
   ]
  },
  {
   "cell_type": "markdown",
   "metadata": {},
   "source": [
    "## 2. [Matplotlib](http://matplotlib.org)\n",
    "A Python 2D plotting library."
   ]
  },
  {
   "cell_type": "markdown",
   "metadata": {},
   "source": [
    "### 2.1. Installation"
   ]
  },
  {
   "cell_type": "markdown",
   "metadata": {},
   "source": [
    "```\n",
    "pip install matplotlib\n",
    "```"
   ]
  },
  {
   "cell_type": "markdown",
   "metadata": {},
   "source": [
    "### 2.2. Configure Matplotlib in-line of IPython (~Jupyter) notebook"
   ]
  },
  {
   "cell_type": "code",
   "execution_count": null,
   "metadata": {},
   "outputs": [],
   "source": [
    "%matplotlib inline"
   ]
  },
  {
   "cell_type": "markdown",
   "metadata": {},
   "source": [
    "### 2.3. Importing it"
   ]
  },
  {
   "cell_type": "code",
   "execution_count": null,
   "metadata": {},
   "outputs": [],
   "source": [
    "import matplotlib.pyplot as plt"
   ]
  },
  {
   "cell_type": "markdown",
   "metadata": {},
   "source": [
    "### 2.4. Drawing data structures (matrices):"
   ]
  },
  {
   "cell_type": "code",
   "execution_count": null,
   "metadata": {},
   "outputs": [],
   "source": [
    "chess_board = np.zeros([8, 8], dtype=int)\n",
    "chess_board[0::2, 1::2] = 1\n",
    "chess_board[1::2, 0::2] = 1\n",
    "plt.matshow(chess_board, cmap=plt.cm.gray)"
   ]
  },
  {
   "cell_type": "markdown",
   "metadata": {},
   "source": [
    "### 2.5. Drawing 2D curves"
   ]
  },
  {
   "cell_type": "code",
   "execution_count": null,
   "metadata": {},
   "outputs": [],
   "source": [
    "resolution = 100\n",
    "x = np.arange(0, 3*np.pi, np.pi/resolution)\n",
    "si = np.sin(x)\n",
    "co = np.cos(x)\n",
    "plt.plot(x, si, c = 'r')\n",
    "plt.plot(x, co, c = 'g')\n",
    "plt.legend(['$\\sin(x)$', '$\\cos(x)$'])\n",
    "plt.xlabel('radians')\n",
    "plt.title('sine($x$) vs. cosine($x$)')\n",
    "plt.xticks(x*resolution, ['0', '$\\pi$', '$2\\pi$'], rotation='horizontal')\n",
    "plt.xlim(0,3*np.pi)\n",
    "plt.show()"
   ]
  },
  {
   "cell_type": "markdown",
   "metadata": {},
   "source": [
    "### 2.6. Drawing 3D curves"
   ]
  },
  {
   "cell_type": "code",
   "execution_count": null,
   "metadata": {},
   "outputs": [],
   "source": [
    "x = np.array([[(x+y)/25 for x in range(256)] for y in range(256)])\n",
    "si = np.sin(x)\n",
    "plt.imshow(si, cmap='hot', interpolation='nearest')\n",
    "plt.show()"
   ]
  },
  {
   "cell_type": "code",
   "execution_count": null,
   "metadata": {},
   "outputs": [],
   "source": [
    "# https://github.com/AeroPython/Taller-Aeropython-PyConEs16\n",
    "def funcion(x,y):\n",
    "    return np.cos(x) + np.sin(y)\n",
    "\n",
    "x_1d = np.linspace(0, 5, 100)\n",
    "y_1d = np.linspace(-2, 4, 100)\n",
    "X, Y = np.meshgrid(x_1d, y_1d)\n",
    "Z = funcion(X,Y)\n",
    "plt.contourf(X, Y, Z, np.linspace(-2, 2, 100),cmap=plt.cm.Spectral)\n",
    "plt.colorbar()\n",
    "cs = plt.contour(X, Y, Z, np.linspace(-2, 2, 9), colors='k')\n",
    "plt.clabel(cs)"
   ]
  },
  {
   "cell_type": "markdown",
   "metadata": {},
   "source": [
    "## 3. [SciPy](https://docs.scipy.org/doc/scipy/reference/)\n",
    "[SciPy](http://cs231n.github.io/python-numpy-tutorial/#numpy-array-indexing) provides a large number of functions that operate on numpy arrays and are useful for different types of scientific and engineering applications such as:\n",
    "1. [Custering](https://docs.scipy.org/doc/scipy/reference/cluster.html).\n",
    "2. [Discrete Fourier Analysis](https://docs.scipy.org/doc/scipy/reference/fftpack.html).\n",
    "3. [Interpolation](https://docs.scipy.org/doc/scipy/reference/interpolate.html).\n",
    "4. [Linear algebra](https://docs.scipy.org/doc/scipy/reference/linalg.html).\n",
    "5. [Signal](https://docs.scipy.org/doc/scipy/reference/signal.html) and [Image processing](https://docs.scipy.org/doc/scipy/reference/ndimage.html).\n",
    "6. [Optimization](https://docs.scipy.org/doc/scipy/reference/optimize.html).\n",
    "7. [Sparse matrix](https://docs.scipy.org/doc/scipy/reference/sparse.html) and [sparse linear algebra](https://docs.scipy.org/doc/scipy/reference/sparse.linalg.html).\n",
    "\n"
   ]
  },
  {
   "cell_type": "markdown",
   "metadata": {},
   "source": [
    "### 3.1. Installation"
   ]
  },
  {
   "cell_type": "markdown",
   "metadata": {},
   "source": [
    "```\n",
    "pip install scipy\n",
    "```"
   ]
  },
  {
   "cell_type": "markdown",
   "metadata": {},
   "source": [
    "### 3.1.1. Optimization example"
   ]
  },
  {
   "cell_type": "code",
   "execution_count": null,
   "metadata": {},
   "outputs": [],
   "source": [
    "# http://www.scipy-lectures.org/advanced/mathematical_optimization/\n",
    "from scipy import optimize"
   ]
  },
  {
   "cell_type": "code",
   "execution_count": null,
   "metadata": {},
   "outputs": [],
   "source": [
    "def f(x):\n",
    "    return -np.exp(-(x - .7)**2)"
   ]
  },
  {
   "cell_type": "code",
   "execution_count": null,
   "metadata": {},
   "outputs": [],
   "source": [
    "sol = optimize.brent(f)\n",
    "print('min =', sol, '\\nx =', f(sol))"
   ]
  },
  {
   "cell_type": "code",
   "execution_count": null,
   "metadata": {},
   "outputs": [],
   "source": [
    "x = np.arange(-10, 10, 0.1)\n",
    "plt.plot(x, f(x))\n",
    "plt.plot([sol],[f(sol)], 'ro')\n",
    "plt.show()"
   ]
  },
  {
   "cell_type": "markdown",
   "metadata": {},
   "source": [
    "## 4. [Pandas](http://pandas.pydata.org/)\n",
    "High-performance data structures and data analysis tools for the Python programming language (similar to [R](https://en.wikipedia.org/wiki/R_(programming_language)). Some tools are:\n",
    "1. [Statistical functions (covariance, correlation)](http://pandas.pydata.org/pandas-docs/stable/computation.html#statistical-functions).\n",
    "2. [Window functions](http://pandas.pydata.org/pandas-docs/stable/computation.html#window-functions).\n",
    "3. [Time series](http://pandas.pydata.org/pandas-docs/stable/timeseries.html).\n",
    "4. [Analysis of sparse data](http://pandas.pydata.org/pandas-docs/stable/sparse.html)."
   ]
  },
  {
   "cell_type": "markdown",
   "metadata": {},
   "source": [
    "### 4.1. Installation"
   ]
  },
  {
   "cell_type": "markdown",
   "metadata": {},
   "source": [
    "```\n",
    "pip3 install pandas\n",
    "```"
   ]
  },
  {
   "cell_type": "markdown",
   "metadata": {},
   "source": [
    "### 4.2. Example"
   ]
  },
  {
   "cell_type": "markdown",
   "metadata": {},
   "source": [
    "Create a table with data:"
   ]
  },
  {
   "cell_type": "code",
   "execution_count": null,
   "metadata": {},
   "outputs": [],
   "source": [
    "import numpy as np\n",
    "import pandas as pd\n",
    "df = pd.DataFrame({'int_col' : [1, 2, 6, 8, -1],\n",
    "                    'float_col' : [0.1, 0.2, 0.2, 10.1, None],\n",
    "                    'str_col' : ['a', 'b', None, 'c', 'a']})\n",
    "print(df)\n",
    "df"
   ]
  },
  {
   "cell_type": "markdown",
   "metadata": {},
   "source": [
    "Arithmetic average of a column:"
   ]
  },
  {
   "cell_type": "code",
   "execution_count": null,
   "metadata": {},
   "outputs": [],
   "source": [
    "df2 = df.copy()\n",
    "mean = df2['float_col'].mean()\n",
    "mean"
   ]
  },
  {
   "cell_type": "markdown",
   "metadata": {},
   "source": [
    "Replace undefined elements:"
   ]
  },
  {
   "cell_type": "code",
   "execution_count": null,
   "metadata": {},
   "outputs": [],
   "source": [
    "df3 = df['float_col'].fillna(mean)\n",
    "df3"
   ]
  },
  {
   "cell_type": "markdown",
   "metadata": {},
   "source": [
    "Create a table by means of columns:"
   ]
  },
  {
   "cell_type": "code",
   "execution_count": null,
   "metadata": {},
   "outputs": [],
   "source": [
    "df4 = pd.concat([df3, df['int_col'], df['str_col']], axis=1)\n",
    "df4"
   ]
  },
  {
   "cell_type": "markdown",
   "metadata": {},
   "source": [
    "## 5. [SymPy](http://www.sympy.org/en/index.html)\n",
    "A Python library for symbolic mathematics. Among others things, it provides:\n",
    "1. [Symbolic simplification](http://docs.sympy.org/latest/tutorial/simplification.html).\n",
    "2. [Calculus (derivatives, integrals, limits, and series expansions)](http://docs.sympy.org/latest/tutorial/calculus.html).\n",
    "3. [Algebraic solver](http://docs.sympy.org/latest/tutorial/solvers.html).\n",
    "4. [Matrix operations](http://docs.sympy.org/latest/tutorial/matrices.html).\n",
    "5. [Combinatorics](http://docs.sympy.org/latest/modules/combinatorics/index.html)\n",
    "6. [Cryptography](http://docs.sympy.org/latest/modules/crypto.html)."
   ]
  },
  {
   "cell_type": "markdown",
   "metadata": {},
   "source": [
    "### 5.1. Install\n",
    "```\n",
    "pip install sympy\n",
    "```"
   ]
  },
  {
   "cell_type": "markdown",
   "metadata": {},
   "source": [
    "### 5.2. Example"
   ]
  },
  {
   "cell_type": "code",
   "execution_count": null,
   "metadata": {},
   "outputs": [],
   "source": [
    "from sympy import init_session\n",
    "init_session(use_latex='matplotlib')"
   ]
  },
  {
   "cell_type": "code",
   "execution_count": null,
   "metadata": {},
   "outputs": [],
   "source": [
    "# https://github.com/AeroPython/Taller-Aeropython-PyConEs16\n",
    "expr = cos(x)**2 + sin(x)**2\n",
    "expr"
   ]
  },
  {
   "cell_type": "code",
   "execution_count": null,
   "metadata": {},
   "outputs": [],
   "source": [
    "simplify(expr)"
   ]
  },
  {
   "cell_type": "code",
   "execution_count": null,
   "metadata": {},
   "outputs": [],
   "source": [
    "expr.subs(x, y**2)"
   ]
  },
  {
   "cell_type": "code",
   "execution_count": null,
   "metadata": {},
   "outputs": [],
   "source": [
    "expr = (x + y) ** 2\n",
    "expr"
   ]
  },
  {
   "cell_type": "code",
   "execution_count": null,
   "metadata": {},
   "outputs": [],
   "source": [
    "expr = expr.expand()\n",
    "expr"
   ]
  },
  {
   "cell_type": "code",
   "execution_count": null,
   "metadata": {},
   "outputs": [],
   "source": [
    "expr = expr.factor()\n",
    "expr"
   ]
  },
  {
   "cell_type": "code",
   "execution_count": null,
   "metadata": {},
   "outputs": [],
   "source": [
    "expr = expr.integrate(x)\n",
    "expr"
   ]
  },
  {
   "cell_type": "code",
   "execution_count": null,
   "metadata": {},
   "outputs": [],
   "source": [
    "expr = expr.diff(x)\n",
    "expr"
   ]
  }
 ],
 "metadata": {
  "kernelspec": {
   "display_name": "Python 3",
   "language": "python",
   "name": "python3"
  },
  "language_info": {
   "codemirror_mode": {
    "name": "ipython",
    "version": 3
   },
   "file_extension": ".py",
   "mimetype": "text/x-python",
   "name": "python",
   "nbconvert_exporter": "python",
   "pygments_lexer": "ipython3",
   "version": "3.7.7"
  },
  "toc": {
   "base_numbering": 1,
   "nav_menu": {},
   "number_sections": true,
   "sideBar": true,
   "skip_h1_title": true,
   "title_cell": "Table of Contents",
   "title_sidebar": "Contents",
   "toc_cell": true,
   "toc_position": {},
   "toc_section_display": true,
   "toc_window_display": true
  }
 },
 "nbformat": 4,
 "nbformat_minor": 1
}
