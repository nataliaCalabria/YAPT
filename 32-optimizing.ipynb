{
 "cells": [
  {
   "cell_type": "markdown",
   "metadata": {},
   "source": [
    "# Running faster your code"
   ]
  },
  {
   "cell_type": "markdown",
   "metadata": {},
   "source": [
    "* [Discrete signal energy](https://en.wikipedia.org/wiki/Energy_(signal_processing) can be computed as a particular case of the [dot product](https://en.wikipedia.org/wiki/Dot_product) when both signals are the same:\n",
    "$$ ~\\\\ E_{s} \\ \\ = \\ \\ \\langle x(n), x(n)\\rangle \\ \\ = \\sum_{n}{|x(n)|^2} = \\sum_{n}{x(n)y(n)}$$\n",
    "Let's see how to speed this operation."
   ]
  },
  {
   "cell_type": "markdown",
   "metadata": {},
   "source": [
    "## 1 Vectorize"
   ]
  },
  {
   "cell_type": "code",
   "execution_count": null,
   "metadata": {},
   "outputs": [],
   "source": [
    "import numpy as np\n",
    "\n",
    "def non_vectorized_dot_product(x, y):\n",
    "    \"\"\"Return the sum of x[i] * y[j] for all pairs of indices i, j.\n",
    "\n",
    "    Example:\n",
    "    \n",
    "        >>> my_dot_product(np.arange(20), np.arange(20))\n",
    "    \n",
    "    \"\"\"\n",
    "    result = 0\n",
    "    for i in range(len(x)):\n",
    "        result += x[i] * y[i]\n",
    "    return result\n",
    "\n",
    "signal = np.random.random(1000)\n",
    "print(signal)"
   ]
  },
  {
   "cell_type": "code",
   "execution_count": null,
   "metadata": {},
   "outputs": [],
   "source": [
    "%timeit non_vectorized_dot_product(signal, signal)"
   ]
  },
  {
   "cell_type": "code",
   "execution_count": null,
   "metadata": {},
   "outputs": [],
   "source": [
    "non_vectorized_dot_product(signal, signal)"
   ]
  },
  {
   "cell_type": "markdown",
   "metadata": {},
   "source": [
    "Now, using Numpy's array multiplication and sum:"
   ]
  },
  {
   "cell_type": "code",
   "execution_count": null,
   "metadata": {},
   "outputs": [],
   "source": [
    "%timeit np.sum(signal*signal)"
   ]
  },
  {
   "cell_type": "code",
   "execution_count": null,
   "metadata": {},
   "outputs": [],
   "source": [
    "np.sum(signal*signal)"
   ]
  },
  {
   "cell_type": "markdown",
   "metadata": {},
   "source": [
    "* Another example to see that vectorization not only involves pure computation:"
   ]
  },
  {
   "cell_type": "code",
   "execution_count": null,
   "metadata": {},
   "outputs": [],
   "source": [
    "# https://softwareengineering.stackexchange.com/questions/254475/how-do-i-move-away-from-the-for-loop-school-of-thought\n",
    "def cleanup(x, missing=-1, value=0):\n",
    "    \"\"\"Return an array that's the same as x, except that where x ==\n",
    "    missing, it has value instead.\n",
    "\n",
    "    >>> cleanup(np.arange(-3, 3), value=10)\n",
    "    ... # doctest: +NORMALIZE_WHITESPACE\n",
    "    array([-3, -2, 10, 0, 1, 2])\n",
    "\n",
    "    \"\"\"\n",
    "    result = []\n",
    "    for i in range(len(x)):\n",
    "        if x[i] == missing:\n",
    "            result.append(value)\n",
    "        else:\n",
    "            result.append(x[i])\n",
    "    return np.array(result)\n",
    "\n",
    "array = np.arange(-8,8)\n",
    "print(array)\n",
    "print(cleanup(array, value=10, missing=0))"
   ]
  },
  {
   "cell_type": "code",
   "execution_count": null,
   "metadata": {},
   "outputs": [],
   "source": [
    "array = np.arange(-1000,1000)\n",
    "%timeit cleanup(array, value=10, missing=0)\n",
    "print(array[995:1006])\n",
    "print(cleanup(array, value=10, missing=0)[995:1006])"
   ]
  },
  {
   "cell_type": "code",
   "execution_count": null,
   "metadata": {},
   "outputs": [],
   "source": [
    "# http://www.secnetix.de/olli/Python/list_comprehensions.hawk\n",
    "# https://docs.python.org/3/library/functions.html#zip\n",
    "value = [10]*2000\n",
    "%timeit [xv if c else yv for (c,xv,yv) in zip(array == 0, value, array)]\n",
    "print([xv if c else yv for (c,xv,yv) in zip(array == 0, value, array)][995:1006])"
   ]
  },
  {
   "cell_type": "code",
   "execution_count": null,
   "metadata": {},
   "outputs": [],
   "source": [
    "# https://docs.scipy.org/doc/numpy-1.13.0/reference/generated/numpy.where.html\n",
    "%timeit np.where(array == 0, 10, array)\n",
    "print(np.where(array == 0, 10, array)[995:1006])"
   ]
  },
  {
   "cell_type": "markdown",
   "metadata": {},
   "source": [
    "* Another example extracted from this [HPC tutorial](https://github.com/pyHPC/pyhpc-tutorial):"
   ]
  },
  {
   "cell_type": "code",
   "execution_count": 11,
   "metadata": {},
   "outputs": [
    {
     "name": "stdout",
     "output_type": "stream",
     "text": [
      "284 ms ± 37.2 ms per loop (mean ± std. dev. of 7 runs, 1 loop each)\n"
     ]
    }
   ],
   "source": [
    "from math import sin\n",
    "import numpy as np\n",
    "\n",
    "arr = np.arange(1000000)\n",
    "%timeit [sin(i)**2 for i in arr]"
   ]
  },
  {
   "cell_type": "code",
   "execution_count": 12,
   "metadata": {},
   "outputs": [
    {
     "name": "stdout",
     "output_type": "stream",
     "text": [
      "21.7 ms ± 1.73 ms per loop (mean ± std. dev. of 7 runs, 10 loops each)\n"
     ]
    }
   ],
   "source": [
    "%timeit np.sin(arr)**2"
   ]
  },
  {
   "cell_type": "markdown",
   "metadata": {},
   "source": [
    "## 2 Use in-place operations"
   ]
  },
  {
   "cell_type": "code",
   "execution_count": null,
   "metadata": {},
   "outputs": [],
   "source": [
    "a = np.random.random(500000)\n",
    "print(a[0:10])\n",
    "b = np.copy(a)\n",
    "%timeit global a; a = 10*a\n",
    "a = 10*a\n",
    "print(a[0:10])"
   ]
  },
  {
   "cell_type": "code",
   "execution_count": null,
   "metadata": {},
   "outputs": [],
   "source": [
    "a = np.copy(b)\n",
    "print(a[0:10])\n",
    "%timeit global a ; a *= 10\n",
    "a *= 10\n",
    "print(a[0:10])"
   ]
  },
  {
   "cell_type": "markdown",
   "metadata": {},
   "source": [
    "## 3 Maximize locality in memory acess"
   ]
  },
  {
   "cell_type": "code",
   "execution_count": null,
   "metadata": {},
   "outputs": [],
   "source": [
    "a = np.random.rand(100,50)\n",
    "b = np.copy(a)"
   ]
  },
  {
   "cell_type": "code",
   "execution_count": null,
   "metadata": {},
   "outputs": [],
   "source": [
    "def mult(x, val):\n",
    "    for i in range(x.shape[0]):\n",
    "        for j in range(x.shape[1]):\n",
    "            x[i][j] /= val\n",
    "%timeit -n 1 -r 1 mult(a, 10)"
   ]
  },
  {
   "cell_type": "code",
   "execution_count": null,
   "metadata": {},
   "outputs": [],
   "source": [
    "a = np.copy(b)\n",
    "\n",
    "def mult2(x, val):\n",
    "    for j in range(x.shape[1]):\n",
    "        for i in range(x.shape[0]):\n",
    "            x[i][j] /= val\n",
    "            \n",
    "%timeit -n 1 -r 1 mult2(a, 10)"
   ]
  },
  {
   "cell_type": "code",
   "execution_count": null,
   "metadata": {},
   "outputs": [],
   "source": [
    "# http://www.scipy-lectures.org/advanced/optimizing/\n",
    "# https://docs.scipy.org/doc/numpy-1.13.0/reference/generated/numpy.sum.html"
   ]
  },
  {
   "cell_type": "code",
   "execution_count": null,
   "metadata": {},
   "outputs": [],
   "source": [
    "c = np.zeros((1000, 1000), order='C')"
   ]
  },
  {
   "cell_type": "code",
   "execution_count": null,
   "metadata": {},
   "outputs": [],
   "source": [
    "%timeit c.sum(axis=0)\n",
    "c.sum(axis=0).shape"
   ]
  },
  {
   "cell_type": "code",
   "execution_count": null,
   "metadata": {},
   "outputs": [],
   "source": [
    "%timeit c.sum(axis=1)\n",
    "c.sum(axis=1).shape"
   ]
  },
  {
   "cell_type": "markdown",
   "metadata": {
    "collapsed": true
   },
   "source": [
    "## 4 Delegate in C\n",
    "When you want to speed-up your code or simply when you need to reuse C code, it is possible to use it from Python. There are several alternatives:\n",
    "\n",
    "1. [Cython](http://cython.org/): A superset of Python to allow you call C functions and load Python variables with C ones. \n",
    "2. [SWIG (Simplified Wrapper Interface Generator)](http://www.swig.org/): A software development tool to connect C/C++ programs with other languages (included Python).\n",
    "3. [Ctypes](http://python.net/crew/theller/ctypes/): A Python package that can be used to call shared libraries (`.ddl`/`.so`/`.dylib`) from Python.\n",
    "4. [Python-C-API](https://docs.python.org/3.6/c-api/index.html): A low-level interface between (compiled) C code and Python."
   ]
  },
  {
   "cell_type": "markdown",
   "metadata": {},
   "source": [
    "A function to optimize:"
   ]
  },
  {
   "cell_type": "code",
   "execution_count": 43,
   "metadata": {},
   "outputs": [
    {
     "name": "stdout",
     "output_type": "stream",
     "text": [
      "def sum_array(a, N):\r\n",
      "    sum = 0\r\n",
      "    for i in range(N):\r\n",
      "        sum += a[i]\r\n",
      "    return sum\r\n"
     ]
    }
   ],
   "source": [
    "!cat sum_array.py"
   ]
  },
  {
   "cell_type": "code",
   "execution_count": 44,
   "metadata": {},
   "outputs": [
    {
     "name": "stdout",
     "output_type": "stream",
     "text": [
      "7.24 ms ± 290 µs per loop (mean ± std. dev. of 7 runs, 100 loops each)\n"
     ]
    }
   ],
   "source": [
    "import sum_array\n",
    "a = [1 for i in range(100000)]\n",
    "%timeit sum_array.sum_array(a, len(a))"
   ]
  },
  {
   "cell_type": "markdown",
   "metadata": {},
   "source": [
    "### 4.2 Cython\n",
    "\n",
    "[Python with C data types.](https://cython.readthedocs.io/en/latest/src/tutorial/cython_tutorial.html)"
   ]
  },
  {
   "cell_type": "markdown",
   "metadata": {},
   "source": [
    "#### Working flow:\n",
    "```\n",
    "      Cython compiler        C compiler\n",
    ".pyx -----------------> .c --------------> .so\n",
    "```"
   ]
  },
  {
   "cell_type": "markdown",
   "metadata": {},
   "source": [
    "#### Installation\n",
    "$ pip install Cython"
   ]
  },
  {
   "cell_type": "code",
   "execution_count": 45,
   "metadata": {},
   "outputs": [
    {
     "name": "stdout",
     "output_type": "stream",
     "text": [
      "from distutils.core import setup\r\n",
      "from Cython.Build import cythonize\r\n",
      "\r\n",
      "setup(\r\n",
      "    ext_modules=cythonize(\"sum_array_cython.pyx\"),\r\n",
      ")\r\n"
     ]
    }
   ],
   "source": [
    "!cat setup_cython.py"
   ]
  },
  {
   "cell_type": "code",
   "execution_count": 46,
   "metadata": {},
   "outputs": [],
   "source": [
    "!cp sum_array.py sum_array_cython.pyx"
   ]
  },
  {
   "cell_type": "code",
   "execution_count": 47,
   "metadata": {},
   "outputs": [
    {
     "name": "stdout",
     "output_type": "stream",
     "text": [
      "Compiling sum_array_cython.pyx because it changed.\n",
      "[1/1] Cythonizing sum_array_cython.pyx\n",
      "/home/vruiz/.pyenv/versions/3.6.4/lib/python3.6/site-packages/Cython/Compiler/Main.py:367: FutureWarning: Cython directive 'language_level' not set, using 2 for now (Py2). This will change in a later release! File: /home/vruiz/YAPT/sum_array_cython.pyx\n",
      "  tree = Parsing.p_module(s, pxd, full_module_name)\n",
      "running build_ext\n",
      "building 'sum_array_cython' extension\n",
      "gcc -pthread -Wno-unused-result -Wsign-compare -DNDEBUG -g -fwrapv -O3 -Wall -Wstrict-prototypes -fPIC -I/home/vruiz/.pyenv/versions/3.6.4/include/python3.6m -c sum_array_cython.c -o build/temp.linux-x86_64-3.6/sum_array_cython.o\n",
      "gcc -pthread -shared -L/home/vruiz/.pyenv/versions/3.6.4/lib -L/home/vruiz/.pyenv/versions/3.6.4/lib build/temp.linux-x86_64-3.6/sum_array_cython.o -o /home/vruiz/YAPT/sum_array_cython.cpython-36m-x86_64-linux-gnu.so\n"
     ]
    }
   ],
   "source": [
    "!python setup_cython.py build_ext --inplace"
   ]
  },
  {
   "cell_type": "code",
   "execution_count": 55,
   "metadata": {},
   "outputs": [
    {
     "ename": "ModuleNotFoundError",
     "evalue": "No module named 'sum_array_cython'",
     "output_type": "error",
     "traceback": [
      "\u001b[0;31m-----------------------------------------------------------------------\u001b[0m",
      "\u001b[0;31mModuleNotFoundError\u001b[0m                   Traceback (most recent call last)",
      "\u001b[0;32m<ipython-input-55-4eb6a1b6871f>\u001b[0m in \u001b[0;36m<module>\u001b[0;34m()\u001b[0m\n\u001b[0;32m----> 1\u001b[0;31m \u001b[0;32mimport\u001b[0m \u001b[0msum_array_cython\u001b[0m\u001b[0;34m\u001b[0m\u001b[0m\n\u001b[0m\u001b[1;32m      2\u001b[0m \u001b[0ma\u001b[0m \u001b[0;34m=\u001b[0m \u001b[0;34m[\u001b[0m\u001b[0;36m1\u001b[0m \u001b[0;32mfor\u001b[0m \u001b[0mi\u001b[0m \u001b[0;32min\u001b[0m \u001b[0mrange\u001b[0m\u001b[0;34m(\u001b[0m\u001b[0;36m100000\u001b[0m\u001b[0;34m)\u001b[0m\u001b[0;34m]\u001b[0m\u001b[0;34m\u001b[0m\u001b[0m\n\u001b[1;32m      3\u001b[0m \u001b[0mget_ipython\u001b[0m\u001b[0;34m(\u001b[0m\u001b[0;34m)\u001b[0m\u001b[0;34m.\u001b[0m\u001b[0mrun_line_magic\u001b[0m\u001b[0;34m(\u001b[0m\u001b[0;34m'timeit'\u001b[0m\u001b[0;34m,\u001b[0m \u001b[0;34m'sum_array.sum_array(a, len(a))'\u001b[0m\u001b[0;34m)\u001b[0m\u001b[0;34m\u001b[0m\u001b[0m\n",
      "\u001b[0;31mModuleNotFoundError\u001b[0m: No module named 'sum_array_cython'"
     ]
    }
   ],
   "source": [
    "import sum_array_cython\n",
    "a = [1 for i in range(100000)]\n",
    "%timeit sum_array.sum_array(a, len(a))"
   ]
  },
  {
   "cell_type": "markdown",
   "metadata": {
    "collapsed": true
   },
   "source": [
    "### 4.2 Python-C\n",
    "\n",
    "Python-C-API is the most flexible and efficient alternative, but also the hardest to code."
   ]
  },
  {
   "cell_type": "markdown",
   "metadata": {},
   "source": [
    "#### The C code to reuse in Python"
   ]
  },
  {
   "cell_type": "code",
   "execution_count": 56,
   "metadata": {},
   "outputs": [
    {
     "name": "stdout",
     "output_type": "stream",
     "text": [
      "double sum_array(double* a, int N) {\r\n",
      "  int i;\r\n",
      "  double sum = 0;\r\n",
      "  for(i=0; i<N; i++) {\r\n",
      "    sum += *a+i;\r\n",
      "  }\r\n",
      "  return sum;\r\n",
      "}\r\n"
     ]
    }
   ],
   "source": [
    "!cat sum_array_lib.c"
   ]
  },
  {
   "cell_type": "code",
   "execution_count": 58,
   "metadata": {},
   "outputs": [
    {
     "name": "stdout",
     "output_type": "stream",
     "text": [
      "#include <stdio.h>\r\n",
      "#include <time.h>\r\n",
      "#include \"sum_array_lib.c\"\r\n",
      "\r\n",
      "#define N 100000\r\n",
      "\r\n",
      "int main() {\r\n",
      "  double a[N];\r\n",
      "  int i;\r\n",
      "  clock_t start, end;\r\n",
      "  double cpu_time;\r\n",
      "  for(i=0; i<N; i++) {\r\n",
      "    a[i] = i;\r\n",
      "  }\r\n",
      "  start = clock();\r\n",
      "  double sum = sum_array(a,N);\r\n",
      "  end = clock();\r\n",
      "  printf(\"%f \", sum);\r\n",
      "  cpu_time = ((double) (end - start)) / CLOCKS_PER_SEC;\r\n",
      "  cpu_time *= 1000000;\r\n",
      "  printf(\"%f usegs\\n\", cpu_time);\r\n",
      "}\r\n"
     ]
    }
   ],
   "source": [
    "!cat sum_array.c"
   ]
  },
  {
   "cell_type": "code",
   "execution_count": 59,
   "metadata": {},
   "outputs": [
    {
     "name": "stdout",
     "output_type": "stream",
     "text": [
      "4999950000.000000 176.000000 usegs\r\n"
     ]
    }
   ],
   "source": [
    "!gcc -O3 sum_array.c -o sum_array\n",
    "!./sum_array"
   ]
  },
  {
   "cell_type": "markdown",
   "metadata": {},
   "source": [
    "### The module"
   ]
  },
  {
   "cell_type": "code",
   "execution_count": 61,
   "metadata": {},
   "outputs": [
    {
     "name": "stdout",
     "output_type": "stream",
     "text": [
      "#include <stdio.h>\r\n",
      "#include <stdlib.h>\r\n",
      "#include <time.h>\r\n",
      "#include <Python.h>            /* Compulsory in every module */\r\n",
      "#include <numpy/arrayobject.h> /* To interact with numpy arrays */\r\n",
      "#include \"sum_array_lib.c\"\r\n",
      "\r\n",
      "static PyObject* sumArray(PyObject* self, PyObject* args) {\r\n",
      "  int N;\r\n",
      "  long int sum;\r\n",
      "  //int* a;\r\n",
      "  PyArrayObject *in_array;\r\n",
      "  \r\n",
      "  clock_t start, end;\r\n",
      "  double cpu_time;\r\n",
      "\r\n",
      "  /*  parse the input */\r\n",
      "  //if (!PyArg_ParseTuple(args, \"i\", &N))\r\n",
      "  if (!PyArg_ParseTuple(args, \"O!\", &PyArray_Type, &in_array))\r\n",
      "    return NULL;\r\n",
      "  /* if the above function returns -1, an appropriate Python exception will\r\n",
      "   * have been set, and the function simply returns NULL\r\n",
      "   */\r\n",
      "\r\n",
      "  N = PyArray_DIM(in_array, 0);\r\n",
      "  printf(\"array size %d\\n\", N);\r\n",
      "\r\n",
      "  npy_double* data  = (npy_double*)PyArray_DATA(in_array);\r\n",
      "  //a = (int*)malloc(N*sizeof(int));\r\n",
      "  //if (!a) return NULL;\r\n",
      "  \r\n",
      "  /*for(i=0; i<N; i++) {\r\n",
      "    data[i] = i;\r\n",
      "    }*/\r\n",
      "\r\n",
      "  start = clock();\r\n",
      "  sum = sum_array(data, N);\r\n",
      "  end = clock();\r\n",
      "  cpu_time = ((double) (end - start)) / CLOCKS_PER_SEC;\r\n",
      "  cpu_time *= 1000000;\r\n",
      "  printf(\"%f usegs\\n\", cpu_time);\r\n",
      "  \r\n",
      "  /*  construct the output (https://docs.python.org/3/c-api/arg.html) */\r\n",
      "  return Py_BuildValue(\"d\", sum);\r\n",
      "}\r\n",
      "\r\n",
      "/*  define functions in module */\r\n",
      "static PyMethodDef module_methods[] = {\r\n",
      "  {\"sumArray\", sumArray, METH_VARARGS, \"Computes the sum of all elements of an array\"},\r\n",
      "  {NULL, NULL, 0, NULL}\r\n",
      "};\r\n",
      "\r\n",
      "/* module initialization */\r\n",
      "/* Python version 3*/\r\n",
      "static struct PyModuleDef cModPyDem = {\r\n",
      "    PyModuleDef_HEAD_INIT,\r\n",
      "    \"sumArray\", \"Computes the sum of all elements of an array\",\r\n",
      "    -1,\r\n",
      "    module_methods\r\n",
      "};\r\n",
      "\r\n",
      "PyMODINIT_FUNC\r\n",
      "PyInit_sum_array_module(void) {\r\n",
      "  import_array();\r\n",
      "  return PyModule_Create(&cModPyDem);\r\n",
      "}\r\n"
     ]
    }
   ],
   "source": [
    "!cat sum_array_module.c"
   ]
  },
  {
   "cell_type": "markdown",
   "metadata": {},
   "source": [
    "### Module compilation"
   ]
  },
  {
   "cell_type": "code",
   "execution_count": 17,
   "metadata": {},
   "outputs": [
    {
     "name": "stdout",
     "output_type": "stream",
     "text": [
      "from distutils.core import setup, Extension\r\n",
      "import numpy.distutils.misc_util\r\n",
      "\r\n",
      "# define the extension module\r\n",
      "sum_array_module = Extension(\r\n",
      "    'sum_array_module',\r\n",
      "    sources=['sum_array_module.c'],\r\n",
      "    include_dirs=numpy.distutils.misc_util.get_numpy_include_dirs()\r\n",
      ")\r\n",
      "\r\n",
      "# run the setup\r\n",
      "setup(\r\n",
      "    ext_modules=[sum_array_module],\r\n",
      ")\r\n"
     ]
    }
   ],
   "source": [
    "!cat setup.py"
   ]
  },
  {
   "cell_type": "code",
   "execution_count": 18,
   "metadata": {},
   "outputs": [
    {
     "name": "stdout",
     "output_type": "stream",
     "text": [
      "\u001b[39mrunning build_ext\u001b[0m\r\n"
     ]
    }
   ],
   "source": [
    "!python setup.py build_ext --inplace"
   ]
  },
  {
   "cell_type": "code",
   "execution_count": 19,
   "metadata": {},
   "outputs": [
    {
     "name": "stdout",
     "output_type": "stream",
     "text": [
      "114 µs ± 577 ns per loop (mean ± std. dev. of 7 runs, 10000 loops each)\n"
     ]
    }
   ],
   "source": [
    "import sum_array_module\n",
    "import numpy as np\n",
    "a = np.arange(100000)\n",
    "%timeit sum_array_module.sumArray(a)"
   ]
  },
  {
   "cell_type": "markdown",
   "metadata": {},
   "source": [
    "However, remember: vectorize when possible!"
   ]
  },
  {
   "cell_type": "code",
   "execution_count": 20,
   "metadata": {},
   "outputs": [
    {
     "name": "stdout",
     "output_type": "stream",
     "text": [
      "48.5 µs ± 346 ns per loop (mean ± std. dev. of 7 runs, 10000 loops each)\n"
     ]
    }
   ],
   "source": [
    "%timeit np.sum(a)"
   ]
  },
  {
   "cell_type": "markdown",
   "metadata": {},
   "source": []
  }
 ],
 "metadata": {
  "kernelspec": {
   "display_name": "Python 3",
   "language": "python",
   "name": "python3"
  },
  "language_info": {
   "codemirror_mode": {
    "name": "ipython",
    "version": 3
   },
   "file_extension": ".py",
   "mimetype": "text/x-python",
   "name": "python",
   "nbconvert_exporter": "python",
   "pygments_lexer": "ipython3",
   "version": "3.6.4"
  }
 },
 "nbformat": 4,
 "nbformat_minor": 1
}
